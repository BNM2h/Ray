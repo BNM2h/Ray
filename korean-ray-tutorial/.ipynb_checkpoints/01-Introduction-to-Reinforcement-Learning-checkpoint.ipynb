{
 "cells": [
  {
   "cell_type": "markdown",
   "metadata": {},
   "source": [
    "# Ray RLlib - Introduction to Reinforcement Learning\n",
    "\n",
    "© 2019-2020, Anyscale. All Rights Reserved\n",
    "\n",
    "![Anyscale Academy](../images/AnyscaleAcademy_Logo_clearbanner_141x100.png)\n",
    "\n",
    "_Reinforcement Learning_ is the category of machine learning that focuses on training one or more _agents_ to achieve maximal _rewards_ while operating in an environment. This lesson discusses the core concepts of RL, while subsequent lessons explore RLlib in depth. We'll use two examples with exercises to give you a taste of RL. If you already understand RL concepts, you can either skim this lesson or skip to the [next lesson](02-Introduction-to-RLlib.ipynb).\n",
    "\n",
    "_강화학습_(이하 RL)은 환경과 상호작용하며 최대 보상을 달성하기 위해 하나 이상의 에이전트를 훈련시키는 데 초점을 맞춘 기계 학습 방법론 중 하나입니다. 이 수업은 RL의 핵심 개념을 살펴보고, RLlib를 깊이 있게 탐구합니다. 우리는 두 가지 예를 사용하여 RL을 체험해볼 것입니다. 만약 이미 RL 개념을 알고있다며, 이 부분은 건너뛸 수 있습니다."
   ]
  },
  {
   "cell_type": "markdown",
   "metadata": {},
   "source": [
    "## What Is Reinforcement Learning?\n",
    "\n",
    "Let's explore the basic concepts of RL, specifically the _Markov Decision Process_ abstraction, and to show its use in Python.\n",
    "\n",
    "RL의 기본 개념, 특히 _Markov Decision Process_ 개념을 탐구하고 Python에서 그 사용법을 봅시다.\n",
    "\n",
    "Consider the following image:\n",
    "\n",
    "![RL Concepts](../images/rllib/RL-concepts.png)\n",
    "\n",
    "In RL, one or more **agents** interact with an **environment** to maximize a **reward**. The agents make **observations** about the **state** of the environment and take **actions** that are believed will maximize the long-term reward. However, at any particular moment, the agents can only observe the immediate reward. So, the training process usually involves lots and lot of replay of the game, the robot simulator traversing a virtual space, etc., so the agents can learn from repeated trials what decisions/actions work best to maximize the long-term, cumulative reward.\n",
    "\n",
    "RL에서 하나 이상의 **agent**는 **environment**과 상호작용하여 **reward**을 최대화 합니다. agent는 environment의 **state**에 대해 **observations**을 하고, 장기 reward을 극대화할 수 있는 **policy**를 취합니다. 그러나 agent들은 어떤 특정한 순간의 즉각적인 reward만을 알 수 있습니다. 따라서 training 과정은 대개 게임의 많은 재생, 가상공간에서의 로봇 시뮬레이터 등을 수반하므로, agent는 장기적인 누적 reward을 극대화하기 위해 어떤 decision/action이 가장 잘 작동하는지 반복적인 실험을 통해 배울 수 있습니다.\n",
    "\n",
    "---\n",
    "\n",
    "The trail and error search and delayed reward are the distinguishing characterists of RL vs. other ML methods ([Sutton 2018](06-RL-References.ipynb#Books)).\n",
    "\n",
    "The way to formalize trial and error is the **exploitation vs. exploration tradeoff**. When an agent finds what appears to be a \"rewarding\" sequence of actions, the agent may naturally want to continue to **exploit** these actions. However, even better actions may exist. An agent won't know whether alternatives are better or not unless some percentage of actions taken **explore** the alternatives. So, all RL algorithms include a strategy for exploitation and exploration.\n",
    "\n",
    "**1)trail and error search** 및 **2)delayed reward**은 RL을 다른 ML 방법론들과 구별할 수 있는 특징입니다.\n",
    "\n",
    "trail and error search 방법은 **exploitation vs. exploration tradeoff**로 나타낼 수 있습니다. agent가 reward를 주는 일련의 action들을 발견하면, agent는 자연스럽게 이러한 action들을 계속 **exploit**하기를 원할 수 있습니다. 하지만, 더 나은 action들이 존재할 수도 있습니다. agent는 지금 찾은 대안이 더 좋은지를 어느정도 다른 대안들을 explore하지 않는 한 알 수 없습니다. 따라서 모든 RL 알고리즘에는 적절한 exploitation과 exploration을 하기 위한 전략이 포함됩니다."
   ]
  },
  {
   "cell_type": "markdown",
   "metadata": {},
   "source": [
    "## RL Applications\n",
    "\n",
    "RL has many potential applications. RL became \"famous\" due to these successes, including achieving expert game play, training robots, autonomous vehicles, and other simulated agents:\n",
    "\n",
    "RL은 다양한 분야에 활용될 잠재성을 가지고 있습니다. RL로 전문가처럼 게임 플레이를 하고, 훈련 로봇, 자율 차량 및 기타 시뮬레이션에서 잘 작동하는 agent들을 만들어내는 성공들로 인해 유명해졌습니다.\n",
    "\n",
    "![AlphaGo](../images/rllib/alpha-go.jpg)\n",
    "![Game](../images/rllib/breakout.png)\n",
    "\n",
    "![Stacking Legos with Sawyer](../images/rllib/stacking-legos-with-sawyer.gif)\n",
    "![Walking Man](../images/rllib/walking-man.gif)\n",
    "\n",
    "![Autonomous Vehicle](../images/rllib/daimler-autonomous-car.jpg)\n",
    "![\"Cassie\": Two-legged Robot](../images/rllib/cassie-crouched.png)\n",
    "\n",
    "Credits:\n",
    "* [AlphaGo](https://www.youtube.com/watch?v=l7ngy56GY6k)\n",
    "* [Breakout](https://towardsdatascience.com/tutorial-double-deep-q-learning-with-dueling-network-architectures-4c1b3fb7f756) ([paper](https://arxiv.org/abs/1312.5602))\n",
    "* [Stacking Legos with Sawyer](https://robohub.org/soft-actor-critic-deep-reinforcement-learning-with-real-world-robots/)\n",
    "* [Walking Man](https://openai.com/blog/openai-baselines-ppo/)\n",
    "* [Autonomous Vehicle](https://www.daimler.com/innovation/case/autonomous/intelligent-drive-2.html)\n",
    "* [\"Cassie\": Two-legged Robot](https://mime.oregonstate.edu/research/drl/robots/cassie/) (Uses Ray!)"
   ]
  },
  {
   "cell_type": "markdown",
   "metadata": {},
   "source": [
    "Recently other industry applications have emerged, include the following:\n",
    "\n",
    "* **Process optimization:** industrial processes (factories, pipelines) and other business processes, routing problems, cluster optimization.\n",
    "* **Ad serving and recommendations:** Some of the traditional methods, including _collaborative filtering_, are hard to scale for very large data sets. RL systems are being developed to do an effective job more efficiently than traditional methods.\n",
    "* **Finance:** Markets are time-oriented _environments_ where automated trading systems are the _agents_. \n",
    "\n",
    "최근에 다른 산업들에서도 RL을 적용될 수 있는 분야들이 생겨나고 있으며 아래와 같은 분야들을 포함합니다.\n",
    "\n",
    "* **Process optimization:** 산업 프로세스 (공장, 파이프 라인) 및 기타 비즈니스 프로세스, 라우팅 문제, 클러스터 최적화에 대해 연구하고 있습니다.\n",
    "* **Ad serving and recommendations:** _colaborative filtering_ 을 포함한 전통적인 방법 중 일부는 매우 큰 데이터 세트에 대해 스케일링하기가 어렵습니다. RL 시스템은 기존의 방법보다 효과적인 작업을 하기 위해 개발되고 있습니다.\n",
    "* **Finance:** 시장은 시간 의존적인 _environments_ 이며, 자동화된 거래 시스템 _agent_ 를 연구합니다."
   ]
  },
  {
   "cell_type": "markdown",
   "metadata": {
    "colab_type": "text",
    "hideCode": false,
    "hidePrompt": false,
    "id": "bAptEafKNlhm"
   },
   "source": [
    "## Markov Decision Processes\n",
    "\n",
    "At its core, Reinforcement learning builds on the concepts of [Markov Decision Process (MDP)](https://en.wikipedia.org/wiki/Markov_decision_process), where the current state, the possible actions that can be taken, and overall goal are the building blocks.\n",
    "\n",
    "An MDP models sequential interactions with an external environment. It consists of the following:\n",
    "\n",
    "- a **state space** where the current state of the system is sometimes called the **context**.\n",
    "- a set of **actions** that can be taken at a particular state $s$ (or sometimes the same set for all states).\n",
    "- a **transition function** that describes the probability of being in a state $s'$ at time $t+1$ given that the MDP was in state $s$ at time $t$ and action $a$ was taken. The next state is selected stochastically based on these probabilities.\n",
    "- a **reward function**, which determines the reward received at time $t$ following action $a$, based on the decision of **policy** $\\pi$.\n",
    "\n",
    "---\n",
    "\n",
    "현재 상태(current state), 취할 수 있는 가능한 actions, 전반적인 목표(overall goal)가 구성 요소인 마르코프 의사결정 과정(MDP)의 개념을 바탕으로 RL이 구축된다. MDP는 외부 environment과의 순차적 상호작용을 모델로 한다. 아래는 MDP의 구성 요소들 입니다.\n",
    "- 시스템의 현재 상태를 (**context**라고 부르기도 하는) **state space**\n",
    "- 특정 state $s$ (또는 모든 states에서 동일한 세트)에서 선택할 수 있는 **actions**\n",
    "- 시간 $t$에 agent가 state $s$에 있고 action $a$d을 선택했을 때, 시간 $t+1$에 state $s'$에 있을 확률을 알려주는 함수 **transition function**. 다음 state $s'$는 이러한 확률에 기초하여 확률적으로 선택됩니다.\n",
    "- agent가 **policy** $\\pi$의 결정에 따라 시간 $t$에 action $a$을 선택하고 받을 reward을 결정하는 **reward function**\n",
    "\n"
   ]
  },
  {
   "cell_type": "markdown",
   "metadata": {
    "colab_type": "text",
    "hideCode": false,
    "hidePrompt": false,
    "id": "bAptEafKNlhm"
   },
   "source": [
    "---\n",
    "The goal of MDP is to develop a **policy** $\\pi$ that specifies what action $a$ should be chosen for a given state $s$ so that the cumulative reward is maximized. When it is possible for the policy \"trainer\" to fully observe all the possible states, actions, and rewards, it can define a deterministic policy, fixing a single action choice for each state. In this scenario, the transition probabilities reduce to the probability of transitioning to state $s'$ given the current state is $s$, independent of actions, because the state now leads to a deterministic action choice. Various algorithms can be used to compute this policy. \n",
    "\n",
    "MDP의 목표는 누적 reward가 극대화 되도록 주어진 state에 대해 어떤 action를 선택해야 하는지를 알려주는 **policy**을 만드는 것입니다. policy \"trainer\"가 가능한 모든 state, action 및 reward을 완전히 관찰할 수 있을 때 각 state에 대한 단일 action 선택을 할 수 있는 결정론적(deterministic) policy을 정의할 수 있습니다. \n",
    "이러한 시나리오에서 state에 따라 확정적인 action을 선택하게 되기 때문에, action과는 독립적으로 transition probabilities은 현재 state $s$에서 다음 state $s'$로 전환되는 확률로 수렴합니다. 이 policy를 구하는 데 다양한 알고리즘을 사용할 수 있습니다.\n",
    "\n",
    "---\n",
    "Put another way, if the policy isn't deterministic, then the transition probability to state $s'$ at a time $t+1$ when action $a$ is taken for state $s$ at time $t$, is given by:\n",
    "\n",
    "\\begin{equation}\n",
    "P_a(s',s) = P(s_{t+1} = s'|s_t=s,a)\n",
    "\\end{equation}\n",
    "\n",
    "When the policy is deterministic, this transition probability reduces to the following, independent of $a$:\n",
    "\n",
    "\\begin{equation}\n",
    "P(s',s) = P(s_{t+1} = s'|s_t=s)\n",
    "\\end{equation}\n",
    "\n",
    "To be clear, a deterministic policy means that one and only one action will always be selected for a given state $s$, but the next state $s'$ will still be selected stochastically.\n",
    "\n",
    "In the general case of RL, it isn't possible to fully know all this information, some of which might be hidden and evolving, so it isn't possible to specify a fully-deterministic policy.\n",
    "\n",
    "다른 방법으로, policy가 결정론적이 아니라면 action $a$를 선택하고 시간 $t+1$에 state $s'$이 될 확률, 즉 transition probability는 다음과 같이 나타낼 수 있습니다.\n",
    "\n",
    "\\begin{equation}\n",
    "P_a(s',s) = P(s_{t+1} = s'|s_t=s,a)\n",
    "\\end{equation}\n",
    "\n",
    "만약 policy가 결정론적이라면, transition probability은 action $a$와 무관하게 아래와 같이 나타내질 수 있습니다.\n",
    "\n",
    "\\begin{equation}\n",
    "P(s',s) = P(s_{t+1} = s'|s_t=s)\n",
    "\\end{equation}\n",
    "\n",
    "분명히, 결정론적 policy는 주어진 state에 대해 오직 하나의 action만 선택되고 다음 state는 여전히 확률 적으로 선택된다는 것을 의미합니다.\n",
    "\n",
    "RL의 일반적인 경우, 이 모든 정보를 완전히 알 수는 없으며 그 중 일부는 숨겨져 있고 변화할 수 있으므로 완전히 결정론적 policy을 정의할 수 없습니다."
   ]
  },
  {
   "cell_type": "markdown",
   "metadata": {
    "colab_type": "text",
    "hideCode": false,
    "hidePrompt": false,
    "id": "bAptEafKNlhm"
   },
   "source": [
    "---\n",
    "Often this cumulative reward is computed using the **discounted sum** over all rewards observed:\n",
    "\n",
    "\\begin{equation}\n",
    "\\arg\\max_{\\pi} \\sum_{t=1}^T \\gamma^t R_t(\\pi),\n",
    "\\end{equation}\n",
    "\n",
    "where $T$ is the number of steps taken in the MDP (this is a random variable and may depend on $\\pi$), $R_t$ is the reward received at time $t$ (also a random variable which depends on $\\pi$), and $\\gamma$ is the **discount factor**. The value of $\\gamma$ is between 0 and 1, meaning it has the effect of \"discounting\" earlier rewards vs. more recent rewards. \n",
    "\n",
    "The [Wikipedia page on MDP](https://en.wikipedia.org/wiki/Markov_decision_process) provides more details. Note what we said in the third bullet, that the new state only depends on the previous state and the action taken. The assumption is that we can simplify our effort by ignoring all the previous states except the last one and still achieve good results. This is known as the [Markov property](https://en.wikipedia.org/wiki/Markov_property). This assumption often works well and it greatly reduces the resources required.\n",
    "\n",
    "이 누적 reward는 자주 관찰된 모든 reward에 대해 할인된 합계를 사용하여 계산됩니다.\n",
    "\n",
    "\\begin{equation}\n",
    "\\arg\\max_{\\pi} \\sum_{t=1}^T \\gamma^t R_t(\\pi),\n",
    "\\end{equation}\n",
    "\n",
    "여기서 T는 MDP에서 취한 step의 수(이것은 무작위 변수이며 $\\pi$에 의존할 수 있음), $R_t$는 시간 t에서 받은 reward(또한 $\\pi$에 의존하는 무작위 변수), $\\gamma$는 **discount factor**이다. $\\gamma$ 값은 0에서 1 사이이며, 이는 초기 reward 대 최근의 reward을 \"할인\"하는 효과를 가지고 있습니다.\n",
    "\n",
    "[MDP의 위키피디아 페이지](https://en.wikipedia.org/wiki/Markov_decision_process)는 더 많은 세부사항을 제공합니다. 우리가 세 번째 bullet에서 한 말에서 보면, 새로운 state는 이전 state와 선택한 action에만 달려 있다. 마지막 state를 제외한 모든 이전 state를 무시하고 여전히 좋은 결과를 달성함으로써 우리의 노력을 단순화할 수 있다는 [Markov property](https://en.wikipedia.org/wiki/Markov_property) 가정이다. 이 가정은 종종 잘 작동하며 필요한 자원을 크게 감소시킵니다."
   ]
  },
  {
   "cell_type": "markdown",
   "metadata": {
    "colab_type": "text",
    "hideCode": false,
    "hidePrompt": false,
    "id": "bAptEafKNlhm"
   },
   "source": [
    "## The Elements of RL\n",
    "\n",
    "Here are the elements of RL that expand on MDP concepts (see [Sutton 2018](https://mitpress.mit.edu/books/reinforcement-learning-second-edition) for more details):\n",
    "\n",
    "여기 MDP 개념에서 확장되는 RL의 요소가 있습니다.\n",
    "\n",
    "#### Policies\n",
    "\n",
    "Unlike MDP, the **transition function** probabilities are often not known in advance, but must be learned. Learning is done through repeated \"play\", where the agent interacts with the environment.\n",
    "\n",
    "This makes the **policy** $\\pi$ harder to determine. Because the fully state space usually can't be fully known, the choice of action $a$ for given state $s$ almostly always remains a stochastic choice, never deterministic, unlike MDP.\n",
    "\n",
    "MDP와 달리 **transition function**에서 나오는 확률은 사전에 알려지지 않은 경우가 많지만 반드시 배워야 합니다. 학습은 agent가 environment와 상호작용하는 반복적인 \"play\"를 통해 이루어집니다.\n",
    "\n",
    "이것은 **policy**를 결정하기 어렵게 만듭니다. 완전한 state 공간은 일반적으로 완전히 알 수 없기 때문에 주어진 state에 대한 action 선택은 거의 항상 (MDP와 달리)결정론적이 아닌 확률적 선택으로 남아있습니다.\n",
    "\n",
    "#### Reward Signal\n",
    "\n",
    "The idea of a **reward signal** encapsulates the desired goal for the system and provides feedback for updating the policy based on how well particular events or actions contribute rewards towards the goal.\n",
    "\n",
    "**reward signal**는 시스템에 대한 원하는 목표를 요약하고 특정 사건이나 action이 목표에 대한 reward에 얼마나 잘 기여하는지에 따라 policy를 업데이트하기 위한 피드백을 제공합니다.\n",
    "\n",
    "#### Value Function\n",
    "\n",
    "The **value function** encapsulates the maximum cumulative reward likely to be achieved starting from a given state for an **episode**. This is harder to determine than the simple reward returned after taking an action. In fact, much of the research in RL over the decades has focused on finding better and more efficient implementations of value functions. To illustrate the challenge, repeatedly taking one sequence of actions may yield low rewards for a while, but eventually provide large rewards. Conversely, always choosing a different sequence of actions may yield a good reward at each step, but be suboptimal for the cumulative reward.\n",
    "\n",
    "**value function**는 **episode**에서 주어진 state에서 시작하여 달성될 가능성이 있는 최대 누적 reward을 요약합니다. 이것은 action를 취한 후에 반환된 단순한 reward보다 결정하기 어렵습니다. 사실, 수십 년 동안 RL의 많은 연구는 value function의 더 좋고 효율적인 구현을 찾는 데 초점을 맞추고 있습니다. 한 가지 도전을 설명해보면, 한 가지 일련의 action을 반복적으로 취하면 잠시 동안은 낮은 reward을 얻을 수 있지만, 결국 큰 reward을 제공할 수 있습니다. 반대로, 항상 다른 일련의 action을 선택하면 각 단계에서 좋은 reward을 얻을 수 있지만 누적된 reward에 대해서는 최적이 아닙니다.\n",
    "\n",
    "#### Episode\n",
    "\n",
    "A sequence of steps by the agent starting in an initial state. At each step, the agent observes the current state, chooses the next action, and receives the new reward. Episodes are used for both training policies and replaying with an existing policy (called _rollout_).\n",
    "\n",
    "초기 state에서 시작하는 agent에 의한 일련의 step들을 말합니다. 각 단계에서 agent는 현재 state를 관찰하고 다음 action을 선택하고 새로운 reward를 받습니다. 에피소드는 training policies과 existing policy으로 다시 play하는 데 모두 사용됩니다(_rollout_라고 함).\n",
    "\n",
    "#### Model\n",
    "\n",
    "An optional feature, some RL algorithms develop or use a **model** of the environment to anticipate the resulting states and rewards for future actions. Hence, they are useful for _planning_ scenarios. Methods for solving RL problems that use models are called _model-based methods_, while methods that learn by trial and error are called _model-free methods_.\n",
    "\n",
    "선택적인 특징으로, 일부 RL 알고리즘은 미래의 action에 대한 결과 state와 reward을 예상하기 위해 env의 **model**을 개발하거나 사용합니다. 따라서, 그것들은 _planning_ 시나리오에 유용합니다. model을 사용하는 RL 문제를 해결하기 위한 방법을 _model 기반 방법_ 이라고 하며 시행착오로 학습하는 메소드를 _model-free 방법_ 이라고 합니다."
   ]
  },
  {
   "cell_type": "markdown",
   "metadata": {
    "colab_type": "text",
    "hideCode": false,
    "hidePrompt": false,
    "id": "bAptEafKNlhm"
   },
   "source": [
    "## Reinforcement Learning Example\n",
    "\n",
    "Let's finish this introduction let's learn about the popular \"hello world\" (1) example environment for RL, balancing a pole vertically on a moving cart, called `CartPole`. Then we'll see how to use RLlib to train a policy using a popular RL algorithm, _Proximal Policy Optimization_, again using `CartPole`.\n",
    "\n",
    "(1) In books and tutorials on programming languages, it is a tradition that the very first program shown prints the message \"Hello World!\".\n",
    "\n",
    "이 소개를 끝내고 인기 있는 \"hello world\" RL의 환경을 예로 들어보겠습니다. 카트폴이라는 움직이는 카트에 수직으로 폴을 균형을 맞추는 문제입니다. 그러고 나서 대중적인 RL 알고리즘인 _Proximal Policy Optimization_ 를 사용하여 policy을 훈련시키기 위해 RLlib을 사용하는 방법을 다시 'CartPole'을 사용하여 볼 것입니다."
   ]
  },
  {
   "cell_type": "markdown",
   "metadata": {
    "colab_type": "text",
    "hideCode": false,
    "hidePrompt": false,
    "id": "bAptEafKNlhm"
   },
   "source": [
    "### CartPole and OpenAI\n",
    "\n",
    "The popular [OpenAI \"gym\" environment](https://gym.openai.com/) provides MDP interfaces to a variety of simulated environments. Perhaps the most popular for learning RL is `CartPole`, a simple environment that simulates the physics of balancing a pole on a moving cart. The `CartPole` problem is described at https://gym.openai.com/envs/CartPole-v1. Here is an image from that website, where the pole is currently falling to the right, which means the cart will need to move to the right to restore balance:\n",
    "\n",
    "인기있는 OpenAI \"gym\" 환경은 다양한 시뮬레이션 환경에 MDP 인터페이스를 제공합니다. 아마도 RL을 배우는 데 가장 인기 있는 것은 움직이는 카트에 장대를 매는 물리학을 시뮬레이션하는 간단한 환경인 카트폴일 것입니다. 카트폴 문제는 https://gym.openai.com/envs/CartPole-v1 에서 더 자세히 설명하고 있습니다. 다음은 현재 폴이 오른쪽으로 떨어지고 있는 웹 사이트의 이미지입니다. 즉, 카트가 균형을 회복하기 위해 오른쪽으로 이동해야 합니다.\n",
    "\n",
    "![Cart Pole](../images/rllib/Cart-Pole.png)"
   ]
  },
  {
   "cell_type": "markdown",
   "metadata": {
    "colab_type": "text",
    "hideCode": false,
    "hidePrompt": false,
    "id": "bAptEafKNlhm"
   },
   "source": [
    "This example fits into the MDP framework as follows:\n",
    "- The **state** consists of the position and velocity of the cart (moving in one dimension from left to right) as well as the angle and angular velocity of the pole that is balancing on the cart.\n",
    "- The **actions** are to decrease or increase the cart's velocity by one unit. A negative velocity means it is moving to the left.\n",
    "- The **transition function** is deterministic and is determined by simulating physical laws. Specifically, for a given **state**, what should we choose as the next velocity value? In the RL context, the correct velocity value to choose has to be learned. Hence, we learn a _policy_ that approximates the optimal transition function that could be calculated from the laws of physics.\n",
    "- The **reward function** is a constant 1 as long as the pole is upright, and 0 once the pole has fallen over. Therefore, maximizing the reward means balancing the pole for as long as possible.\n",
    "- The **discount factor** in this case can be taken to be 1, meaning we treat the rewards at all time steps equally and don't discount any of them.\n",
    "\n",
    "More information about the `gym` Python module is available at https://gym.openai.com/. The list of all the available Gym environments is in [this wiki page](https://github.com/openai/gym/wiki/Table-of-environments). We'll use a few more of them and even create our own in subsequent lessons.\n",
    "\n",
    "이 예는 다음과 같이 MDP 프레임 워크에 적합합니다.\n",
    "\n",
    "- **state**는 카트의 위치와 속도(좌에서 우로 한 차원으로 이동)와 카트에서 균형을 이루고 있는 폴의 각도와 각속도로 구성됩니다.\n",
    "- **actions**은 카트의 속도를 한 단위로 줄이거나 증가시키는 것입니다. 음수는 그것이 왼쪽으로 움직이는 것을 의미합니다.\n",
    "- **transition function**는 결정론적이며 물리적 법칙을 시뮬레이션하여 결정됩니다. 구체적으로, 주어진 **state**의 경우, 다음 속도 값으로 무엇을 선택해야 하는가?에 대한 내용입니다. RL에서 선택해야 할 정확한 속도 값을 배워야 합니다. 따라서 물리학 법칙에서 계산할 수 있는 최적의 transition function를 근사화하는 _policy_ 를 배웁니다.\n",
    "- **reward function**는 pole이 서있을 때 상수 1이고,pole이 넘어지면 0입니다. 따라서 reward을 극대화한다는 것은 가능한 한 오랫동안 pole의 균형을 잡는 것을 의미합니다.\n",
    "- 이 경우 **discount factor**는 1로 간주할 수 있습니다. 즉, 우리는 항상 보상을 동등하게 취급하고 그 중 어느 것도 할인하지 않습니다."
   ]
  },
  {
   "cell_type": "code",
   "execution_count": 1,
   "metadata": {
    "colab": {},
    "colab_type": "code",
    "id": "a9Kwo5ZfNlhn"
   },
   "outputs": [],
   "source": [
    "import gym\n",
    "import numpy as np\n",
    "import pandas as pd\n",
    "import json"
   ]
  },
  {
   "cell_type": "markdown",
   "metadata": {
    "colab_type": "text",
    "id": "WPpofaxQNlhp"
   },
   "source": [
    "The code below illustrates how to create and manipulate MDPs in Python. An MDP can be created by calling `gym.make`. Gym environments are identified by names like `CartPole-v1`. A **catalog of built-in environments** can be found at https://gym.openai.com/envs.\n",
    "\n",
    "아래 코드는 파이썬에서 MDP를 만들고 조작하는 방법을 보여줍니다. MDP는 `gym.make`로 만들어질 수 있습니다. Gym environments은 `CartPole-v1` 같은 이름으로 구분됩니다. **catalog of built-in environments**는 https://gym.openai.com/envs에서 찾을 수 있습니다."
   ]
  },
  {
   "cell_type": "code",
   "execution_count": 2,
   "metadata": {
    "colab": {
     "base_uri": "https://localhost:8080/",
     "height": 34
    },
    "colab_type": "code",
    "hideCode": false,
    "hidePrompt": false,
    "id": "6DZ68SG9Nlhp",
    "outputId": "293be60b-8107-42f2-c54a-58f3eaf295f2"
   },
   "outputs": [
    {
     "name": "stdout",
     "output_type": "stream",
     "text": [
      "Created env: <TimeLimit<CartPoleEnv<CartPole-v1>>>\n"
     ]
    }
   ],
   "source": [
    "env = gym.make('CartPole-v1')\n",
    "print('Created env:', env)"
   ]
  },
  {
   "cell_type": "markdown",
   "metadata": {
    "colab_type": "text",
    "id": "Xn5PqgDzNlhr"
   },
   "source": [
    "Reset the state of the MDP by calling `env.reset()`. This call returns the initial state of the MDP.\n",
    "\n",
    "`env.reset()`로 MDP의 상태를 reset합니다. MDP의 초기 state를 불러옵니다."
   ]
  },
  {
   "cell_type": "code",
   "execution_count": 3,
   "metadata": {
    "colab": {
     "base_uri": "https://localhost:8080/",
     "height": 34
    },
    "colab_type": "code",
    "hideCode": false,
    "hidePrompt": false,
    "id": "zRA58dOFNlhs",
    "outputId": "7aba4eac-fb0f-4654-eb49-0fbd6d664f28"
   },
   "outputs": [
    {
     "name": "stdout",
     "output_type": "stream",
     "text": [
      "The starting state is: [ 0.00862049 -0.02136743 -0.03003316  0.04897816]\n"
     ]
    }
   ],
   "source": [
    "state = env.reset()\n",
    "print('The starting state is:', state)"
   ]
  },
  {
   "cell_type": "code",
   "execution_count": 31,
   "metadata": {},
   "outputs": [],
   "source": [
    "#!pip list"
   ]
  },
  {
   "cell_type": "markdown",
   "metadata": {},
   "source": [
    "Recall that the state is the position of the cart, its velocity, the angle of the pole, and the angular velocity of the pole.\n",
    "\n",
    "state는 카트의 위치, 속도, 극의 각도 및 극의 각속도임을 기억하십시오."
   ]
  },
  {
   "cell_type": "markdown",
   "metadata": {
    "colab_type": "text",
    "id": "8MuXXesWNlhu"
   },
   "source": [
    "The `env.step` method takes an action. In the case of the `CartPole` environment, the appropriate actions are 0 or 1, for pushing the cart to the left or right, respectively. `env.step()` returns a tuple of four things:\n",
    "1. the new state of the environment\n",
    "2. a reward\n",
    "3. a boolean indicating whether the simulation has finished\n",
    "4. a dictionary of miscellaneous extra information\n",
    "\n",
    "Let's show what happens if we take one step with an action of 0.\n",
    "\n",
    "`env.step`의 방법은 action을 받습니다. 카트폴 환경의 경우 카트를 좌우로 밀어내는 데 필요한 action는 0이나 1입니다. `env.step()`는 4개의 요소를 가지고 있는 튜플을 반환합니다.\n",
    "1. the new state of the environment\n",
    "2. a reward\n",
    "3. a boolean indicating whether the simulation has finished\n",
    "4. a dictionary of miscellaneous extra information\n",
    "\n",
    "0의 동작으로만 한 step가면 어떻게 되는지 봅시다."
   ]
  },
  {
   "cell_type": "code",
   "execution_count": 4,
   "metadata": {
    "colab": {
     "base_uri": "https://localhost:8080/",
     "height": 34
    },
    "colab_type": "code",
    "hideCode": false,
    "hidePrompt": false,
    "id": "TufVaMz_Nlhu",
    "outputId": "920b9758-7d85-49e8-f8ef-4586b6947dea"
   },
   "outputs": [
    {
     "name": "stdout",
     "output_type": "stream",
     "text": [
      "[ 0.00819315 -0.21604615 -0.0290536   0.33203612] 1.0 False {}\n"
     ]
    }
   ],
   "source": [
    "action = 0\n",
    "state, reward, done, info = env.step(action)\n",
    "print(state, reward, done, info)"
   ]
  },
  {
   "cell_type": "markdown",
   "metadata": {
    "colab_type": "text",
    "id": "uBIoIuWYNlhw"
   },
   "source": [
    "A **rollout** is a simulation of a policy in an environment. It is used both during training and when running simulations with a trained policy. \n",
    "\n",
    "The code below performs a rollout in a given environment. It takes **random actions** until the simulation has finished and returns the cumulative reward.\n",
    "\n",
    "**rollout**은 environment에서 policy을 시뮬레이션하는 것입니다. 훈련 중일 때 및 훈련된 policy으로 시뮬레이션을 실행할 때 모두 사용됩니다.\n",
    "\n",
    "아래 코드는 주어진 env에서 rollout을 수행합니다. 시뮬레이션이 완료되고 누적 reward을 반환할 때까지 **random actions**이 필요합니다."
   ]
  },
  {
   "cell_type": "code",
   "execution_count": 5,
   "metadata": {
    "colab": {
     "base_uri": "https://localhost:8080/",
     "height": 51
    },
    "colab_type": "code",
    "id": "Zp00mr88Nlhw",
    "outputId": "f0d01977-00c9-4ad2-931a-7f9730b5b005"
   },
   "outputs": [],
   "source": [
    "def random_rollout(env):\n",
    "    state = env.reset()\n",
    "    \n",
    "    done = False\n",
    "    cumulative_reward = 0\n",
    "\n",
    "    # Keep looping as long as the simulation has not finished.\n",
    "    while not done:\n",
    "        # Choose a random action (either 0 or 1).\n",
    "        action = np.random.choice([0, 1])\n",
    "        \n",
    "        # Take the action in the environment.\n",
    "        state, reward, done, _ = env.step(action)\n",
    "        \n",
    "        # Update the cumulative reward.\n",
    "        cumulative_reward += reward\n",
    "    \n",
    "    # Return the cumulative reward.\n",
    "    return cumulative_reward    "
   ]
  },
  {
   "cell_type": "markdown",
   "metadata": {},
   "source": [
    "Try rerunning the following cell a few times. How much do the answers change? Note that the maximum possible reward for `CartPole` is 500. You'll probably get numbers under 200.\n",
    "\n",
    "다음 셀을 몇 번 다시 실행해 보십시오. 답은 얼마나 변하는가? 카트폴의 최대 reward은 500달러다. 아마 200 미만의 숫자를 얻을 수 있을 겁니다."
   ]
  },
  {
   "cell_type": "code",
   "execution_count": 27,
   "metadata": {
    "colab": {
     "base_uri": "https://localhost:8080/",
     "height": 51
    },
    "colab_type": "code",
    "id": "Zp00mr88Nlhw",
    "outputId": "f0d01977-00c9-4ad2-931a-7f9730b5b005"
   },
   "outputs": [
    {
     "name": "stdout",
     "output_type": "stream",
     "text": [
      "47.0\n",
      "13.0\n"
     ]
    }
   ],
   "source": [
    "reward = random_rollout(env)\n",
    "print(reward)\n",
    "reward = random_rollout(env)\n",
    "print(reward)"
   ]
  },
  {
   "cell_type": "markdown",
   "metadata": {
    "colab_type": "text",
    "id": "i3FVvEJRNlhy"
   },
   "source": [
    "### Exercise 1\n",
    "\n",
    "Choosing actions at random in `random_rollout` is not a very effective policy, as the previous results showed. Finish implementing the `rollout_policy` function below, which takes an environment *and* a policy. Recall that the *policy* is a function that takes in a *state* and returns an *action*. The main difference is that instead of choosing a **random action**, like we just did (with poor results), the action should be chosen **with the policy** (as a function of the state).\n",
    "\n",
    "> **Note:** Exercise solutions for this tutorial can be found [here](solutions/Ray-RLlib-Solutions.ipynb).\n",
    "\n",
    "앞선 결과에서 알 수 있듯이 무작위로 `random_rollout`에서 action을 선택하는 것은 그다지 효과적인 policy가 아닙니다. 아래의 `rollout_policy` 기능을 실행하여 env과 policy을 취합니다. *policy*은 *state*를 취하여 *action*을 반환하는 함수라는 것을 기억하세요. 차이점은 우리가 방금 했던 것처럼 **random action**을 선택하는 대신 **with the policy**으로 액션을 선택해야 한다는 것입니다."
   ]
  },
  {
   "cell_type": "code",
   "execution_count": 28,
   "metadata": {
    "colab": {
     "base_uri": "https://localhost:8080/",
     "height": 375
    },
    "colab_type": "code",
    "id": "9PgmkROqNlhy",
    "outputId": "91445278-aeb7-4e86-e1b7-c92e5ba830a2"
   },
   "outputs": [
    {
     "name": "stdout",
     "output_type": "stream",
     "text": [
      "The first sample policy got an average reward of 9.37.\n",
      "The second sample policy got an average reward of 28.74.\n"
     ]
    }
   ],
   "source": [
    "def rollout_policy(env, policy):\n",
    "    state = env.reset()\n",
    "    \n",
    "    done = False\n",
    "    cumulative_reward = 0\n",
    "\n",
    "    # EXERCISE: Fill out this function by copying the appropriate part of 'random_rollout'\n",
    "    # and modifying it to choose the action using the policy.\n",
    "    # --------------------------------------------------------------------------\n",
    "    while not done:\n",
    "        # Choose a action using the policy\n",
    "        action = policy(state)\n",
    "        \n",
    "        # Take the action in the environment.\n",
    "        state, reward, done, _ = env.step(action)\n",
    "        \n",
    "        # Update the cumulative reward.\n",
    "        cumulative_reward += reward\n",
    "\n",
    "    # raise NotImplementedError\n",
    "    # --------------------------------------------------------------------------\n",
    "\n",
    "    # Return the cumulative reward.\n",
    "    return cumulative_reward\n",
    "\n",
    "def sample_policy1(state):\n",
    "    return 0 if state[0] < 0 else 1\n",
    "\n",
    "def sample_policy2(state):\n",
    "    return 1 if state[0] < 0 else 0\n",
    "\n",
    "reward1 = np.mean([rollout_policy(env, sample_policy1) for _ in range(100)])\n",
    "reward2 = np.mean([rollout_policy(env, sample_policy2) for _ in range(100)])\n",
    "\n",
    "print('The first sample policy got an average reward of {}.'.format(reward1))\n",
    "print('The second sample policy got an average reward of {}.'.format(reward2))\n",
    "\n",
    "assert 5 < reward1 < 15, ('Make sure that rollout_policy computes the action '\n",
    "                          'by applying the policy to the state.')\n",
    "assert 25 < reward2 < 35, ('Make sure that rollout_policy computes the action '\n",
    "                           'by applying the policy to the state.')"
   ]
  },
  {
   "cell_type": "markdown",
   "metadata": {},
   "source": [
    "We'll return to `CartPole` in lesson [01: Application Cart Pole](explore-rllib/01-Application-Cart-Pole.ipynb) in the `explore-rllib` section."
   ]
  },
  {
   "cell_type": "markdown",
   "metadata": {
    "colab_type": "text",
    "id": "qXQ8hIB9Nlh0"
   },
   "source": [
    "### RLlib Reinforcement Learning Example: Cart Pole with Proximal Policy Optimization\n",
    "\n",
    "This section demonstrates how to use the _proximal policy optimization_ (PPO) algorithm implemented by [RLlib](http://rllib.io). PPO is a popular way to develop a policy. RLlib also uses [Ray Tune](http://tune.io), the Ray Hyperparameter Tuning framework, which is covered in the [Ray Tune Tutorial](../ray-tune/00-Ray-Tune-Overview.ipynb).\n",
    "\n",
    "We'll provide relatively little explanation of **RLlib** concepts for now, but explore them in greater depth in subsequent lessons. For more on RLlib, see the documentation at http://rllib.io."
   ]
  },
  {
   "cell_type": "markdown",
   "metadata": {
    "colab_type": "text",
    "id": "qXQ8hIB9Nlh0"
   },
   "source": [
    "PPO is described in detail in [this paper](https://arxiv.org/abs/1707.06347). It is a variant of _Trust Region Policy Optimization_ (TRPO) described in [this earlier paper](https://arxiv.org/abs/1502.05477). [This OpenAI post](https://openai.com/blog/openai-baselines-ppo/) provides a more accessible introduction to PPO.\n",
    "\n",
    "PPO works in two phases. In the first phase, a large number of rollouts are performed in parallel. The rollouts are then aggregated on the driver and a surrogate optimization objective is defined based on those rollouts. In the second phase, we use SGD (_stochastic gradient descent_) to find the policy that maximizes that objective with a penalty term for diverging too much from the current policy.\n",
    "\n",
    "![PPO](../images/rllib/ppo.png)\n",
    "\n",
    "> **NOTE:** The SGD optimization step is best performed in a data-parallel manner over multiple GPUs. This is exposed through the `num_gpus` field of the `config` dictionary. Hence, for normal usage, one or more GPUs is recommended.\n",
    "\n",
    "(The original version of this example can be found [here](https://raw.githubusercontent.com/ucbrise/risecamp/risecamp2018/ray/tutorial/rllib_exercises/)).\n",
    "\n",
    "PPO는 TRPO의 변형 알고리즘이다. 총 2단계로 진행되는데, 첫번째 단계에서 많은 rollout들이 동시에 수행된다. 이 rollout들이 드라이버에서 모아지고 이 rollout들을 기반으로 surrogate(대리) 최적화가 정의된다. 그 다음 단계에서 SGD를 가지고 목적함수를 최대화 시키는 정책을 찾는다. 이때 목적함수에는 현재 정책과 너무 다를(=발산하는) 경우 패널티를 주는 항이 추가되어 있다.\n",
    "\n",
    "> 여러개 GPU로 이루어지는 데이터 병렬과정에서는 SGD가 최고의 퍼포먼스를 나타낸다. 이것은 `config`에 있는 `num_gpus`로 확인할 수 있다. "
   ]
  },
  {
   "cell_type": "code",
   "execution_count": 8,
   "metadata": {
    "colab": {},
    "colab_type": "code",
    "id": "XwPnR2ibNlh2"
   },
   "outputs": [],
   "source": [
    "# import gym  # imported above already, but listed here for completeness\n",
    "import ray\n",
    "from ray.rllib.agents.ppo import PPOTrainer, DEFAULT_CONFIG\n",
    "from ray.tune.logger import pretty_print"
   ]
  },
  {
   "cell_type": "markdown",
   "metadata": {},
   "source": [
    "The following script checks if the Ray cluster is already running. If not, it tells you what to do to start Ray."
   ]
  },
  {
   "cell_type": "code",
   "execution_count": 20,
   "metadata": {},
   "outputs": [
    {
     "name": "stdout",
     "output_type": "stream",
     "text": [
      "D:\\Installation\\Anaconda3\\envs\\signal\\Scripts\n"
     ]
    }
   ],
   "source": [
    "#!../tools/start-ray.sh --check --verbose"
   ]
  },
  {
   "cell_type": "markdown",
   "metadata": {
    "colab": {},
    "colab_type": "code",
    "id": "tQFzEX2BNlh3"
   },
   "source": [
    "Now start Ray in this \"driver\" process. This must be done before we instantiate any RL agents."
   ]
  },
  {
   "cell_type": "code",
   "execution_count": 11,
   "metadata": {
    "colab": {},
    "colab_type": "code",
    "id": "tQFzEX2BNlh3"
   },
   "outputs": [
    {
     "name": "stderr",
     "output_type": "stream",
     "text": [
      "2020-08-16 12:52:44,284\tERROR worker.py:655 -- Calling ray.init() again after it has already been called.\n"
     ]
    }
   ],
   "source": [
    "# ray.init(address='auto', ignore_reinit_error=True, log_to_driver=False)"
   ]
  },
  {
   "cell_type": "code",
   "execution_count": 10,
   "metadata": {},
   "outputs": [
    {
     "name": "stderr",
     "output_type": "stream",
     "text": [
      "2020-08-16 12:52:32,789\tINFO resource_spec.py:212 -- Starting Ray with 4.79 GiB memory available for workers and up to 2.4 GiB for objects. You can adjust these settings with ray.init(memory=<bytes>, object_store_memory=<bytes>).\n",
      "2020-08-16 12:52:34,188\tINFO services.py:1165 -- View the Ray dashboard at \u001b[1m\u001b[32mlocalhost:8265\u001b[39m\u001b[22m\n"
     ]
    },
    {
     "data": {
      "text/plain": [
       "{'node_ip_address': '192.168.0.4',\n",
       " 'raylet_ip_address': '192.168.0.4',\n",
       " 'redis_address': '192.168.0.4:6379',\n",
       " 'object_store_address': 'tcp://127.0.0.1:64523',\n",
       " 'raylet_socket_name': 'tcp://127.0.0.1:63464',\n",
       " 'webui_url': 'localhost:8265',\n",
       " 'session_dir': 'C:\\\\Users\\\\LG\\\\AppData\\\\Local\\\\Temp\\\\ray\\\\session_2020-08-16_12-52-32_779317_31072'}"
      ]
     },
     "execution_count": 10,
     "metadata": {},
     "output_type": "execute_result"
    },
    {
     "name": "stderr",
     "output_type": "stream",
     "text": [
      "2020-08-16 12:52:41,256\tWARNING worker.py:1047 -- The dashboard on node Jungyeon failed with the following error:\n",
      "Traceback (most recent call last):\n",
      "  File \"D:\\Installation\\Anaconda3\\envs\\signal\\lib\\site-packages\\ray\\dashboard/dashboard.py\", line 960, in <module>\n",
      "    metrics_export_address=metrics_export_address)\n",
      "  File \"D:\\Installation\\Anaconda3\\envs\\signal\\lib\\site-packages\\ray\\dashboard/dashboard.py\", line 513, in __init__\n",
      "    build_dir = setup_static_dir(self.app)\n",
      "  File \"D:\\Installation\\Anaconda3\\envs\\signal\\lib\\site-packages\\ray\\dashboard/dashboard.py\", line 414, in setup_static_dir\n",
      "    \"&& npm run build)\", build_dir)\n",
      "FileNotFoundError: [Errno 2] Dashboard build directory not found. If installing from source, please follow the additional steps required to build the dashboard(cd python/ray/dashboard/client && npm ci && npm run build): 'D:\\\\Installation\\\\Anaconda3\\\\envs\\\\signal\\\\lib\\\\site-packages\\\\ray\\\\dashboard\\\\client/build'\n",
      "\n"
     ]
    }
   ],
   "source": [
    "ray.init()"
   ]
  },
  {
   "cell_type": "markdown",
   "metadata": {},
   "source": [
    "> **Tip:** Having trouble starting Ray? See the [Troubleshooting](../reference/Troubleshooting-Tips-Tricks.ipynb) tips."
   ]
  },
  {
   "cell_type": "markdown",
   "metadata": {},
   "source": [
    "The next cell prints the URL for the Ray Dashboard. **This is only correct if you are running this tutorial on a laptop.** Click the link to open the dashboard.\n",
    "\n",
    "If you are running on the Anyscale platform, use the URL provided by your instructor to open the Dashboard."
   ]
  },
  {
   "cell_type": "code",
   "execution_count": 12,
   "metadata": {},
   "outputs": [
    {
     "name": "stdout",
     "output_type": "stream",
     "text": [
      "Dashboard URL: http://localhost:8265\n"
     ]
    }
   ],
   "source": [
    "print(f'Dashboard URL: http://{ray.get_webui_url()}')"
   ]
  },
  {
   "cell_type": "markdown",
   "metadata": {
    "colab_type": "text",
    "id": "f9yhpJZVNlh5"
   },
   "source": [
    "Instantiate a PPOTrainer object. We pass in a config object that specifies how the network and training procedure should be configured. Some of the parameters are the following.\n",
    "\n",
    "- `num_workers` is the number of actors that the agent will create. This determines the degree of parallelism that will be used. In a cluster, these actors will be spread over the available nodes.\n",
    "- `num_sgd_iter` is the number of epochs of SGD (stochastic gradient descent, i.e., passes through the data) that will be used to optimize the PPO surrogate objective at each iteration of PPO, for each _minibatch_ (\"chunk\") of training data. Using minibatches is more efficient than training with one record at a time.\n",
    "- `sgd_minibatch_size` is the SGD minibatch size (batches of data) that will be used to optimize the PPO surrogate objective.\n",
    "- `model` contains a dictionary of parameters describing the neural net used to parameterize the policy. The `fcnet_hiddens` parameter is a list of the sizes of the hidden layers. Here, we have two hidden layers of size 100, each.\n",
    "- `num_cpus_per_worker` when set to 0 prevents Ray from pinning a CPU core to each worker, which means we could run out of workers in a constrained environment like a laptop or a cloud VM.\n",
    "\n",
    "PPOTrainer 인스턴스를 가져온다. config로 네트워크와 학습과정에 대해 명시한다.\n",
    "\n",
    "- `num_workers` 만들어질 agent의 수. 병렬화 정도를 나타낸다. In a cluster, these actors will be spread over the available nodes.\n",
    "- `num_sgd_iter` SGD epoch 수 (stochastic gradient descent, i.e., passes through the data). the PPO surrogate objective를 최적화 시키는 정도는 나타낸다. minibatch를 사용하여 더 효과적인 training이 가능하다.\n",
    "- `sgd_minibatch_size` SGD minibatch 크기 (batches of data). PPO surrogate objective 최적화하는데 사용.\n",
    "- `model` dictionary 자료형으로 policy를 나타내는 the neural net에 대해 나타낸다. `fcnet_hiddens` 는 hidden layers의 크기를 나타낸다. 여기서는 size 100의 hidden layer를 2개 가지고 있다.\n",
    "- `num_cpus_per_worker` when set to 0 prevents Ray from pinning a CPU core to each worker, which means we could run out of workers in a constrained environment like a laptop or a cloud VM."
   ]
  },
  {
   "cell_type": "code",
   "execution_count": 13,
   "metadata": {
    "colab": {},
    "colab_type": "code",
    "id": "Ok210MCfNlh5"
   },
   "outputs": [],
   "source": [
    "config = DEFAULT_CONFIG.copy()\n",
    "config['num_workers'] = 1\n",
    "config['num_sgd_iter'] = 30\n",
    "config['sgd_minibatch_size'] = 128\n",
    "config['model']['fcnet_hiddens'] = [100, 100]\n",
    "config['num_cpus_per_worker'] = 0 "
   ]
  },
  {
   "cell_type": "code",
   "execution_count": 14,
   "metadata": {
    "colab": {},
    "colab_type": "code",
    "id": "Ok210MCfNlh5"
   },
   "outputs": [
    {
     "name": "stderr",
     "output_type": "stream",
     "text": [
      "2020-08-16 12:53:12,282\tERROR syncer.py:46 -- Log sync requires rsync to be installed.\n",
      "2020-08-16 12:53:12,286\tINFO trainer.py:585 -- Tip: set framework=tfe or the --eager flag to enable TensorFlow eager execution\n",
      "2020-08-16 12:53:12,287\tINFO trainer.py:612 -- Current log_level is WARN. For more information, set 'log_level': 'INFO' / 'DEBUG' or use the -v and -vv flags.\n",
      "2020-08-16 12:53:16,436\tWARNING util.py:37 -- Install gputil for GPU system monitoring.\n"
     ]
    }
   ],
   "source": [
    "agent = PPOTrainer(config, 'CartPole-v1')"
   ]
  },
  {
   "cell_type": "markdown",
   "metadata": {
    "colab_type": "text",
    "id": "Ty1a6AWVNlh7"
   },
   "source": [
    "Now let's train the policy on the `CartPole-v1` environment for `N` steps. The JSON object returned by each call to `agent.train()` contains a lot of information we'll inspect below. For now, we'll extract information we'll graph, such as `episode_reward_mean`. The _mean_ values are more useful for determining successful training.\n",
    "\n",
    "agent를 training해보고 `episode_reward_mean`를 뽑아보자."
   ]
  },
  {
   "cell_type": "code",
   "execution_count": 15,
   "metadata": {},
   "outputs": [
    {
     "name": "stdout",
     "output_type": "stream",
     "text": [
      "  0: Min/Mean/Max reward:   9.0000/ 22.0389/ 71.0000\n",
      "  1: Min/Mean/Max reward:  11.0000/ 37.2037/120.0000\n",
      "  2: Min/Mean/Max reward:  11.0000/ 53.9600/153.0000\n",
      "  3: Min/Mean/Max reward:  14.0000/ 83.5700/323.0000\n",
      "  4: Min/Mean/Max reward:  14.0000/112.4800/342.0000\n",
      "  5: Min/Mean/Max reward:  14.0000/144.4800/500.0000\n",
      "  6: Min/Mean/Max reward:  14.0000/178.7600/500.0000\n",
      "  7: Min/Mean/Max reward:  14.0000/210.0000/500.0000\n",
      "  8: Min/Mean/Max reward:  14.0000/241.3100/500.0000\n",
      "  9: Min/Mean/Max reward:  21.0000/277.6800/500.0000\n"
     ]
    }
   ],
   "source": [
    "N=10\n",
    "results = []\n",
    "episode_data = []\n",
    "episode_json = []\n",
    "for n in range(N):\n",
    "    result = agent.train()\n",
    "    results.append(result)\n",
    "    episode = {'n': n, \n",
    "               'episode_reward_min':  result['episode_reward_min'],  \n",
    "               'episode_reward_mean': result['episode_reward_mean'], \n",
    "               'episode_reward_max':  result['episode_reward_max'],  \n",
    "               'episode_len_mean':    result['episode_len_mean']}    \n",
    "    episode_data.append(episode)\n",
    "    episode_json.append(json.dumps(episode))\n",
    "    print(f'{n:3d}: Min/Mean/Max reward: {result[\"episode_reward_min\"]:8.4f}/{result[\"episode_reward_mean\"]:8.4f}/{result[\"episode_reward_max\"]:8.4f}')"
   ]
  },
  {
   "cell_type": "markdown",
   "metadata": {},
   "source": [
    "Now let's convert the episode data to a Pandas `DataFrame` for easy manipulation. The results indicate how much reward the policy is receiving (`episode_reward_*`) and how many time steps of the environment the policy ran (`episode_len_mean`). The maximum possible reward for this problem is `500`. The reward mean and trajectory length are very close because the agent receives a reward of one for every time step that it survives. However, this is specific to this environment and not true in general.\n",
    "\n",
    "이제 에피소드 데이터를 Pandas `DataFrame`으로 변환해보자. 그 결과 정책이 얼마나 많은 보상을 받고 있는지(`episode_reward_*`), 정책이 실행한 환경의 몇 단계(`episode_len_mean`)를 알 수 있다. 이에 대한 최대 보상은 500달러다. 보상 평균과 궤적 길이는 에이전트가 생존하는 매 단계마다 보상을 받기 때문에 매우 가깝습니다. 그러나 이것은 이러한 환경에만 국한되어 있으며 일반적이지 않다."
   ]
  },
  {
   "cell_type": "code",
   "execution_count": 16,
   "metadata": {},
   "outputs": [
    {
     "data": {
      "text/html": [
       "<div>\n",
       "<style scoped>\n",
       "    .dataframe tbody tr th:only-of-type {\n",
       "        vertical-align: middle;\n",
       "    }\n",
       "\n",
       "    .dataframe tbody tr th {\n",
       "        vertical-align: top;\n",
       "    }\n",
       "\n",
       "    .dataframe thead th {\n",
       "        text-align: right;\n",
       "    }\n",
       "</style>\n",
       "<table border=\"1\" class=\"dataframe\">\n",
       "  <thead>\n",
       "    <tr style=\"text-align: right;\">\n",
       "      <th></th>\n",
       "      <th>n</th>\n",
       "      <th>episode_reward_min</th>\n",
       "      <th>episode_reward_mean</th>\n",
       "      <th>episode_reward_max</th>\n",
       "      <th>episode_len_mean</th>\n",
       "    </tr>\n",
       "  </thead>\n",
       "  <tbody>\n",
       "    <tr>\n",
       "      <th>0</th>\n",
       "      <td>0</td>\n",
       "      <td>9.0</td>\n",
       "      <td>22.038889</td>\n",
       "      <td>71.0</td>\n",
       "      <td>22.038889</td>\n",
       "    </tr>\n",
       "    <tr>\n",
       "      <th>1</th>\n",
       "      <td>1</td>\n",
       "      <td>11.0</td>\n",
       "      <td>37.203704</td>\n",
       "      <td>120.0</td>\n",
       "      <td>37.203704</td>\n",
       "    </tr>\n",
       "    <tr>\n",
       "      <th>2</th>\n",
       "      <td>2</td>\n",
       "      <td>11.0</td>\n",
       "      <td>53.960000</td>\n",
       "      <td>153.0</td>\n",
       "      <td>53.960000</td>\n",
       "    </tr>\n",
       "    <tr>\n",
       "      <th>3</th>\n",
       "      <td>3</td>\n",
       "      <td>14.0</td>\n",
       "      <td>83.570000</td>\n",
       "      <td>323.0</td>\n",
       "      <td>83.570000</td>\n",
       "    </tr>\n",
       "    <tr>\n",
       "      <th>4</th>\n",
       "      <td>4</td>\n",
       "      <td>14.0</td>\n",
       "      <td>112.480000</td>\n",
       "      <td>342.0</td>\n",
       "      <td>112.480000</td>\n",
       "    </tr>\n",
       "    <tr>\n",
       "      <th>5</th>\n",
       "      <td>5</td>\n",
       "      <td>14.0</td>\n",
       "      <td>144.480000</td>\n",
       "      <td>500.0</td>\n",
       "      <td>144.480000</td>\n",
       "    </tr>\n",
       "    <tr>\n",
       "      <th>6</th>\n",
       "      <td>6</td>\n",
       "      <td>14.0</td>\n",
       "      <td>178.760000</td>\n",
       "      <td>500.0</td>\n",
       "      <td>178.760000</td>\n",
       "    </tr>\n",
       "    <tr>\n",
       "      <th>7</th>\n",
       "      <td>7</td>\n",
       "      <td>14.0</td>\n",
       "      <td>210.000000</td>\n",
       "      <td>500.0</td>\n",
       "      <td>210.000000</td>\n",
       "    </tr>\n",
       "    <tr>\n",
       "      <th>8</th>\n",
       "      <td>8</td>\n",
       "      <td>14.0</td>\n",
       "      <td>241.310000</td>\n",
       "      <td>500.0</td>\n",
       "      <td>241.310000</td>\n",
       "    </tr>\n",
       "    <tr>\n",
       "      <th>9</th>\n",
       "      <td>9</td>\n",
       "      <td>21.0</td>\n",
       "      <td>277.680000</td>\n",
       "      <td>500.0</td>\n",
       "      <td>277.680000</td>\n",
       "    </tr>\n",
       "  </tbody>\n",
       "</table>\n",
       "</div>"
      ],
      "text/plain": [
       "   n  episode_reward_min  episode_reward_mean  episode_reward_max  \\\n",
       "0  0                 9.0            22.038889                71.0   \n",
       "1  1                11.0            37.203704               120.0   \n",
       "2  2                11.0            53.960000               153.0   \n",
       "3  3                14.0            83.570000               323.0   \n",
       "4  4                14.0           112.480000               342.0   \n",
       "5  5                14.0           144.480000               500.0   \n",
       "6  6                14.0           178.760000               500.0   \n",
       "7  7                14.0           210.000000               500.0   \n",
       "8  8                14.0           241.310000               500.0   \n",
       "9  9                21.0           277.680000               500.0   \n",
       "\n",
       "   episode_len_mean  \n",
       "0         22.038889  \n",
       "1         37.203704  \n",
       "2         53.960000  \n",
       "3         83.570000  \n",
       "4        112.480000  \n",
       "5        144.480000  \n",
       "6        178.760000  \n",
       "7        210.000000  \n",
       "8        241.310000  \n",
       "9        277.680000  "
      ]
     },
     "execution_count": 16,
     "metadata": {},
     "output_type": "execute_result"
    }
   ],
   "source": [
    "df = pd.DataFrame(data=episode_data)\n",
    "df"
   ]
  },
  {
   "cell_type": "code",
   "execution_count": 17,
   "metadata": {},
   "outputs": [
    {
     "data": {
      "text/plain": [
       "['n',\n",
       " 'episode_reward_min',\n",
       " 'episode_reward_mean',\n",
       " 'episode_reward_max',\n",
       " 'episode_len_mean']"
      ]
     },
     "execution_count": 17,
     "metadata": {},
     "output_type": "execute_result"
    }
   ],
   "source": [
    "df.columns.tolist()"
   ]
  },
  {
   "cell_type": "markdown",
   "metadata": {},
   "source": [
    "Let's plot the data."
   ]
  },
  {
   "cell_type": "code",
   "execution_count": 18,
   "metadata": {},
   "outputs": [],
   "source": [
    "import sys\n",
    "sys.path.append(\"..\")\n",
    "from util.line_plots import plot_line, plot_line_with_min_max, plot_line_with_stddev"
   ]
  },
  {
   "cell_type": "code",
   "execution_count": 19,
   "metadata": {},
   "outputs": [
    {
     "data": {
      "text/html": [
       "\n",
       "    <div class=\"bk-root\">\n",
       "        <a href=\"https://bokeh.org\" target=\"_blank\" class=\"bk-logo bk-logo-small bk-logo-notebook\"></a>\n",
       "        <span id=\"1001\">Loading BokehJS ...</span>\n",
       "    </div>"
      ]
     },
     "metadata": {},
     "output_type": "display_data"
    },
    {
     "data": {
      "application/javascript": [
       "\n",
       "(function(root) {\n",
       "  function now() {\n",
       "    return new Date();\n",
       "  }\n",
       "\n",
       "  var force = true;\n",
       "\n",
       "  if (typeof root._bokeh_onload_callbacks === \"undefined\" || force === true) {\n",
       "    root._bokeh_onload_callbacks = [];\n",
       "    root._bokeh_is_loading = undefined;\n",
       "  }\n",
       "\n",
       "  var JS_MIME_TYPE = 'application/javascript';\n",
       "  var HTML_MIME_TYPE = 'text/html';\n",
       "  var EXEC_MIME_TYPE = 'application/vnd.bokehjs_exec.v0+json';\n",
       "  var CLASS_NAME = 'output_bokeh rendered_html';\n",
       "\n",
       "  /**\n",
       "   * Render data to the DOM node\n",
       "   */\n",
       "  function render(props, node) {\n",
       "    var script = document.createElement(\"script\");\n",
       "    node.appendChild(script);\n",
       "  }\n",
       "\n",
       "  /**\n",
       "   * Handle when an output is cleared or removed\n",
       "   */\n",
       "  function handleClearOutput(event, handle) {\n",
       "    var cell = handle.cell;\n",
       "\n",
       "    var id = cell.output_area._bokeh_element_id;\n",
       "    var server_id = cell.output_area._bokeh_server_id;\n",
       "    // Clean up Bokeh references\n",
       "    if (id != null && id in Bokeh.index) {\n",
       "      Bokeh.index[id].model.document.clear();\n",
       "      delete Bokeh.index[id];\n",
       "    }\n",
       "\n",
       "    if (server_id !== undefined) {\n",
       "      // Clean up Bokeh references\n",
       "      var cmd = \"from bokeh.io.state import curstate; print(curstate().uuid_to_server['\" + server_id + \"'].get_sessions()[0].document.roots[0]._id)\";\n",
       "      cell.notebook.kernel.execute(cmd, {\n",
       "        iopub: {\n",
       "          output: function(msg) {\n",
       "            var id = msg.content.text.trim();\n",
       "            if (id in Bokeh.index) {\n",
       "              Bokeh.index[id].model.document.clear();\n",
       "              delete Bokeh.index[id];\n",
       "            }\n",
       "          }\n",
       "        }\n",
       "      });\n",
       "      // Destroy server and session\n",
       "      var cmd = \"import bokeh.io.notebook as ion; ion.destroy_server('\" + server_id + \"')\";\n",
       "      cell.notebook.kernel.execute(cmd);\n",
       "    }\n",
       "  }\n",
       "\n",
       "  /**\n",
       "   * Handle when a new output is added\n",
       "   */\n",
       "  function handleAddOutput(event, handle) {\n",
       "    var output_area = handle.output_area;\n",
       "    var output = handle.output;\n",
       "\n",
       "    // limit handleAddOutput to display_data with EXEC_MIME_TYPE content only\n",
       "    if ((output.output_type != \"display_data\") || (!output.data.hasOwnProperty(EXEC_MIME_TYPE))) {\n",
       "      return\n",
       "    }\n",
       "\n",
       "    var toinsert = output_area.element.find(\".\" + CLASS_NAME.split(' ')[0]);\n",
       "\n",
       "    if (output.metadata[EXEC_MIME_TYPE][\"id\"] !== undefined) {\n",
       "      toinsert[toinsert.length - 1].firstChild.textContent = output.data[JS_MIME_TYPE];\n",
       "      // store reference to embed id on output_area\n",
       "      output_area._bokeh_element_id = output.metadata[EXEC_MIME_TYPE][\"id\"];\n",
       "    }\n",
       "    if (output.metadata[EXEC_MIME_TYPE][\"server_id\"] !== undefined) {\n",
       "      var bk_div = document.createElement(\"div\");\n",
       "      bk_div.innerHTML = output.data[HTML_MIME_TYPE];\n",
       "      var script_attrs = bk_div.children[0].attributes;\n",
       "      for (var i = 0; i < script_attrs.length; i++) {\n",
       "        toinsert[toinsert.length - 1].firstChild.setAttribute(script_attrs[i].name, script_attrs[i].value);\n",
       "        toinsert[toinsert.length - 1].firstChild.textContent = bk_div.children[0].textContent\n",
       "      }\n",
       "      // store reference to server id on output_area\n",
       "      output_area._bokeh_server_id = output.metadata[EXEC_MIME_TYPE][\"server_id\"];\n",
       "    }\n",
       "  }\n",
       "\n",
       "  function register_renderer(events, OutputArea) {\n",
       "\n",
       "    function append_mime(data, metadata, element) {\n",
       "      // create a DOM node to render to\n",
       "      var toinsert = this.create_output_subarea(\n",
       "        metadata,\n",
       "        CLASS_NAME,\n",
       "        EXEC_MIME_TYPE\n",
       "      );\n",
       "      this.keyboard_manager.register_events(toinsert);\n",
       "      // Render to node\n",
       "      var props = {data: data, metadata: metadata[EXEC_MIME_TYPE]};\n",
       "      render(props, toinsert[toinsert.length - 1]);\n",
       "      element.append(toinsert);\n",
       "      return toinsert\n",
       "    }\n",
       "\n",
       "    /* Handle when an output is cleared or removed */\n",
       "    events.on('clear_output.CodeCell', handleClearOutput);\n",
       "    events.on('delete.Cell', handleClearOutput);\n",
       "\n",
       "    /* Handle when a new output is added */\n",
       "    events.on('output_added.OutputArea', handleAddOutput);\n",
       "\n",
       "    /**\n",
       "     * Register the mime type and append_mime function with output_area\n",
       "     */\n",
       "    OutputArea.prototype.register_mime_type(EXEC_MIME_TYPE, append_mime, {\n",
       "      /* Is output safe? */\n",
       "      safe: true,\n",
       "      /* Index of renderer in `output_area.display_order` */\n",
       "      index: 0\n",
       "    });\n",
       "  }\n",
       "\n",
       "  // register the mime type if in Jupyter Notebook environment and previously unregistered\n",
       "  if (root.Jupyter !== undefined) {\n",
       "    var events = require('base/js/events');\n",
       "    var OutputArea = require('notebook/js/outputarea').OutputArea;\n",
       "\n",
       "    if (OutputArea.prototype.mime_types().indexOf(EXEC_MIME_TYPE) == -1) {\n",
       "      register_renderer(events, OutputArea);\n",
       "    }\n",
       "  }\n",
       "\n",
       "  \n",
       "  if (typeof (root._bokeh_timeout) === \"undefined\" || force === true) {\n",
       "    root._bokeh_timeout = Date.now() + 5000;\n",
       "    root._bokeh_failed_load = false;\n",
       "  }\n",
       "\n",
       "  var NB_LOAD_WARNING = {'data': {'text/html':\n",
       "     \"<div style='background-color: #fdd'>\\n\"+\n",
       "     \"<p>\\n\"+\n",
       "     \"BokehJS does not appear to have successfully loaded. If loading BokehJS from CDN, this \\n\"+\n",
       "     \"may be due to a slow or bad network connection. Possible fixes:\\n\"+\n",
       "     \"</p>\\n\"+\n",
       "     \"<ul>\\n\"+\n",
       "     \"<li>re-rerun `output_notebook()` to attempt to load from CDN again, or</li>\\n\"+\n",
       "     \"<li>use INLINE resources instead, as so:</li>\\n\"+\n",
       "     \"</ul>\\n\"+\n",
       "     \"<code>\\n\"+\n",
       "     \"from bokeh.resources import INLINE\\n\"+\n",
       "     \"output_notebook(resources=INLINE)\\n\"+\n",
       "     \"</code>\\n\"+\n",
       "     \"</div>\"}};\n",
       "\n",
       "  function display_loaded() {\n",
       "    var el = document.getElementById(\"1001\");\n",
       "    if (el != null) {\n",
       "      el.textContent = \"BokehJS is loading...\";\n",
       "    }\n",
       "    if (root.Bokeh !== undefined) {\n",
       "      if (el != null) {\n",
       "        el.textContent = \"BokehJS \" + root.Bokeh.version + \" successfully loaded.\";\n",
       "      }\n",
       "    } else if (Date.now() < root._bokeh_timeout) {\n",
       "      setTimeout(display_loaded, 100)\n",
       "    }\n",
       "  }\n",
       "\n",
       "\n",
       "  function run_callbacks() {\n",
       "    try {\n",
       "      root._bokeh_onload_callbacks.forEach(function(callback) {\n",
       "        if (callback != null)\n",
       "          callback();\n",
       "      });\n",
       "    } finally {\n",
       "      delete root._bokeh_onload_callbacks\n",
       "    }\n",
       "    console.debug(\"Bokeh: all callbacks have finished\");\n",
       "  }\n",
       "\n",
       "  function load_libs(css_urls, js_urls, callback) {\n",
       "    if (css_urls == null) css_urls = [];\n",
       "    if (js_urls == null) js_urls = [];\n",
       "\n",
       "    root._bokeh_onload_callbacks.push(callback);\n",
       "    if (root._bokeh_is_loading > 0) {\n",
       "      console.debug(\"Bokeh: BokehJS is being loaded, scheduling callback at\", now());\n",
       "      return null;\n",
       "    }\n",
       "    if (js_urls == null || js_urls.length === 0) {\n",
       "      run_callbacks();\n",
       "      return null;\n",
       "    }\n",
       "    console.debug(\"Bokeh: BokehJS not loaded, scheduling load and callback at\", now());\n",
       "    root._bokeh_is_loading = css_urls.length + js_urls.length;\n",
       "\n",
       "    function on_load() {\n",
       "      root._bokeh_is_loading--;\n",
       "      if (root._bokeh_is_loading === 0) {\n",
       "        console.debug(\"Bokeh: all BokehJS libraries/stylesheets loaded\");\n",
       "        run_callbacks()\n",
       "      }\n",
       "    }\n",
       "\n",
       "    function on_error() {\n",
       "      console.error(\"failed to load \" + url);\n",
       "    }\n",
       "\n",
       "    for (var i = 0; i < css_urls.length; i++) {\n",
       "      var url = css_urls[i];\n",
       "      const element = document.createElement(\"link\");\n",
       "      element.onload = on_load;\n",
       "      element.onerror = on_error;\n",
       "      element.rel = \"stylesheet\";\n",
       "      element.type = \"text/css\";\n",
       "      element.href = url;\n",
       "      console.debug(\"Bokeh: injecting link tag for BokehJS stylesheet: \", url);\n",
       "      document.body.appendChild(element);\n",
       "    }\n",
       "\n",
       "    const hashes = {\"https://cdn.bokeh.org/bokeh/release/bokeh-2.1.1.min.js\": \"kLr4fYcqcSpbuI95brIH3vnnYCquzzSxHPU6XGQCIkQRGJwhg0StNbj1eegrHs12\", \"https://cdn.bokeh.org/bokeh/release/bokeh-widgets-2.1.1.min.js\": \"xIGPmVtaOm+z0BqfSOMn4lOR6ciex448GIKG4eE61LsAvmGj48XcMQZtKcE/UXZe\", \"https://cdn.bokeh.org/bokeh/release/bokeh-tables-2.1.1.min.js\": \"Dc9u1wF/0zApGIWoBbH77iWEHtdmkuYWG839Uzmv8y8yBLXebjO9ZnERsde5Ln/P\", \"https://cdn.bokeh.org/bokeh/release/bokeh-gl-2.1.1.min.js\": \"cT9JaBz7GiRXdENrJLZNSC6eMNF3nh3fa5fTF51Svp+ukxPdwcU5kGXGPBgDCa2j\"};\n",
       "\n",
       "    for (var i = 0; i < js_urls.length; i++) {\n",
       "      var url = js_urls[i];\n",
       "      var element = document.createElement('script');\n",
       "      element.onload = on_load;\n",
       "      element.onerror = on_error;\n",
       "      element.async = false;\n",
       "      element.src = url;\n",
       "      if (url in hashes) {\n",
       "        element.crossOrigin = \"anonymous\";\n",
       "        element.integrity = \"sha384-\" + hashes[url];\n",
       "      }\n",
       "      console.debug(\"Bokeh: injecting script tag for BokehJS library: \", url);\n",
       "      document.head.appendChild(element);\n",
       "    }\n",
       "  };\n",
       "\n",
       "  function inject_raw_css(css) {\n",
       "    const element = document.createElement(\"style\");\n",
       "    element.appendChild(document.createTextNode(css));\n",
       "    document.body.appendChild(element);\n",
       "  }\n",
       "\n",
       "  \n",
       "  var js_urls = [\"https://cdn.bokeh.org/bokeh/release/bokeh-2.1.1.min.js\", \"https://cdn.bokeh.org/bokeh/release/bokeh-widgets-2.1.1.min.js\", \"https://cdn.bokeh.org/bokeh/release/bokeh-tables-2.1.1.min.js\", \"https://cdn.bokeh.org/bokeh/release/bokeh-gl-2.1.1.min.js\"];\n",
       "  var css_urls = [];\n",
       "  \n",
       "\n",
       "  var inline_js = [\n",
       "    function(Bokeh) {\n",
       "      Bokeh.set_log_level(\"info\");\n",
       "    },\n",
       "    function(Bokeh) {\n",
       "    \n",
       "    \n",
       "    }\n",
       "  ];\n",
       "\n",
       "  function run_inline_js() {\n",
       "    \n",
       "    if (root.Bokeh !== undefined || force === true) {\n",
       "      \n",
       "    for (var i = 0; i < inline_js.length; i++) {\n",
       "      inline_js[i].call(root, root.Bokeh);\n",
       "    }\n",
       "    if (force === true) {\n",
       "        display_loaded();\n",
       "      }} else if (Date.now() < root._bokeh_timeout) {\n",
       "      setTimeout(run_inline_js, 100);\n",
       "    } else if (!root._bokeh_failed_load) {\n",
       "      console.log(\"Bokeh: BokehJS failed to load within specified timeout.\");\n",
       "      root._bokeh_failed_load = true;\n",
       "    } else if (force !== true) {\n",
       "      var cell = $(document.getElementById(\"1001\")).parents('.cell').data().cell;\n",
       "      cell.output_area.append_execute_result(NB_LOAD_WARNING)\n",
       "    }\n",
       "\n",
       "  }\n",
       "\n",
       "  if (root._bokeh_is_loading === 0) {\n",
       "    console.debug(\"Bokeh: BokehJS loaded, going straight to plotting\");\n",
       "    run_inline_js();\n",
       "  } else {\n",
       "    load_libs(css_urls, js_urls, function() {\n",
       "      console.debug(\"Bokeh: BokehJS plotting callback run at\", now());\n",
       "      run_inline_js();\n",
       "    });\n",
       "  }\n",
       "}(window));"
      ],
      "application/vnd.bokehjs_load.v0+json": "\n(function(root) {\n  function now() {\n    return new Date();\n  }\n\n  var force = true;\n\n  if (typeof root._bokeh_onload_callbacks === \"undefined\" || force === true) {\n    root._bokeh_onload_callbacks = [];\n    root._bokeh_is_loading = undefined;\n  }\n\n  \n\n  \n  if (typeof (root._bokeh_timeout) === \"undefined\" || force === true) {\n    root._bokeh_timeout = Date.now() + 5000;\n    root._bokeh_failed_load = false;\n  }\n\n  var NB_LOAD_WARNING = {'data': {'text/html':\n     \"<div style='background-color: #fdd'>\\n\"+\n     \"<p>\\n\"+\n     \"BokehJS does not appear to have successfully loaded. If loading BokehJS from CDN, this \\n\"+\n     \"may be due to a slow or bad network connection. Possible fixes:\\n\"+\n     \"</p>\\n\"+\n     \"<ul>\\n\"+\n     \"<li>re-rerun `output_notebook()` to attempt to load from CDN again, or</li>\\n\"+\n     \"<li>use INLINE resources instead, as so:</li>\\n\"+\n     \"</ul>\\n\"+\n     \"<code>\\n\"+\n     \"from bokeh.resources import INLINE\\n\"+\n     \"output_notebook(resources=INLINE)\\n\"+\n     \"</code>\\n\"+\n     \"</div>\"}};\n\n  function display_loaded() {\n    var el = document.getElementById(\"1001\");\n    if (el != null) {\n      el.textContent = \"BokehJS is loading...\";\n    }\n    if (root.Bokeh !== undefined) {\n      if (el != null) {\n        el.textContent = \"BokehJS \" + root.Bokeh.version + \" successfully loaded.\";\n      }\n    } else if (Date.now() < root._bokeh_timeout) {\n      setTimeout(display_loaded, 100)\n    }\n  }\n\n\n  function run_callbacks() {\n    try {\n      root._bokeh_onload_callbacks.forEach(function(callback) {\n        if (callback != null)\n          callback();\n      });\n    } finally {\n      delete root._bokeh_onload_callbacks\n    }\n    console.debug(\"Bokeh: all callbacks have finished\");\n  }\n\n  function load_libs(css_urls, js_urls, callback) {\n    if (css_urls == null) css_urls = [];\n    if (js_urls == null) js_urls = [];\n\n    root._bokeh_onload_callbacks.push(callback);\n    if (root._bokeh_is_loading > 0) {\n      console.debug(\"Bokeh: BokehJS is being loaded, scheduling callback at\", now());\n      return null;\n    }\n    if (js_urls == null || js_urls.length === 0) {\n      run_callbacks();\n      return null;\n    }\n    console.debug(\"Bokeh: BokehJS not loaded, scheduling load and callback at\", now());\n    root._bokeh_is_loading = css_urls.length + js_urls.length;\n\n    function on_load() {\n      root._bokeh_is_loading--;\n      if (root._bokeh_is_loading === 0) {\n        console.debug(\"Bokeh: all BokehJS libraries/stylesheets loaded\");\n        run_callbacks()\n      }\n    }\n\n    function on_error() {\n      console.error(\"failed to load \" + url);\n    }\n\n    for (var i = 0; i < css_urls.length; i++) {\n      var url = css_urls[i];\n      const element = document.createElement(\"link\");\n      element.onload = on_load;\n      element.onerror = on_error;\n      element.rel = \"stylesheet\";\n      element.type = \"text/css\";\n      element.href = url;\n      console.debug(\"Bokeh: injecting link tag for BokehJS stylesheet: \", url);\n      document.body.appendChild(element);\n    }\n\n    const hashes = {\"https://cdn.bokeh.org/bokeh/release/bokeh-2.1.1.min.js\": \"kLr4fYcqcSpbuI95brIH3vnnYCquzzSxHPU6XGQCIkQRGJwhg0StNbj1eegrHs12\", \"https://cdn.bokeh.org/bokeh/release/bokeh-widgets-2.1.1.min.js\": \"xIGPmVtaOm+z0BqfSOMn4lOR6ciex448GIKG4eE61LsAvmGj48XcMQZtKcE/UXZe\", \"https://cdn.bokeh.org/bokeh/release/bokeh-tables-2.1.1.min.js\": \"Dc9u1wF/0zApGIWoBbH77iWEHtdmkuYWG839Uzmv8y8yBLXebjO9ZnERsde5Ln/P\", \"https://cdn.bokeh.org/bokeh/release/bokeh-gl-2.1.1.min.js\": \"cT9JaBz7GiRXdENrJLZNSC6eMNF3nh3fa5fTF51Svp+ukxPdwcU5kGXGPBgDCa2j\"};\n\n    for (var i = 0; i < js_urls.length; i++) {\n      var url = js_urls[i];\n      var element = document.createElement('script');\n      element.onload = on_load;\n      element.onerror = on_error;\n      element.async = false;\n      element.src = url;\n      if (url in hashes) {\n        element.crossOrigin = \"anonymous\";\n        element.integrity = \"sha384-\" + hashes[url];\n      }\n      console.debug(\"Bokeh: injecting script tag for BokehJS library: \", url);\n      document.head.appendChild(element);\n    }\n  };\n\n  function inject_raw_css(css) {\n    const element = document.createElement(\"style\");\n    element.appendChild(document.createTextNode(css));\n    document.body.appendChild(element);\n  }\n\n  \n  var js_urls = [\"https://cdn.bokeh.org/bokeh/release/bokeh-2.1.1.min.js\", \"https://cdn.bokeh.org/bokeh/release/bokeh-widgets-2.1.1.min.js\", \"https://cdn.bokeh.org/bokeh/release/bokeh-tables-2.1.1.min.js\", \"https://cdn.bokeh.org/bokeh/release/bokeh-gl-2.1.1.min.js\"];\n  var css_urls = [];\n  \n\n  var inline_js = [\n    function(Bokeh) {\n      Bokeh.set_log_level(\"info\");\n    },\n    function(Bokeh) {\n    \n    \n    }\n  ];\n\n  function run_inline_js() {\n    \n    if (root.Bokeh !== undefined || force === true) {\n      \n    for (var i = 0; i < inline_js.length; i++) {\n      inline_js[i].call(root, root.Bokeh);\n    }\n    if (force === true) {\n        display_loaded();\n      }} else if (Date.now() < root._bokeh_timeout) {\n      setTimeout(run_inline_js, 100);\n    } else if (!root._bokeh_failed_load) {\n      console.log(\"Bokeh: BokehJS failed to load within specified timeout.\");\n      root._bokeh_failed_load = true;\n    } else if (force !== true) {\n      var cell = $(document.getElementById(\"1001\")).parents('.cell').data().cell;\n      cell.output_area.append_execute_result(NB_LOAD_WARNING)\n    }\n\n  }\n\n  if (root._bokeh_is_loading === 0) {\n    console.debug(\"Bokeh: BokehJS loaded, going straight to plotting\");\n    run_inline_js();\n  } else {\n    load_libs(css_urls, js_urls, function() {\n      console.debug(\"Bokeh: BokehJS plotting callback run at\", now());\n      run_inline_js();\n    });\n  }\n}(window));"
     },
     "metadata": {},
     "output_type": "display_data"
    }
   ],
   "source": [
    "import bokeh.io\n",
    "# The next two lines prevent Bokeh from opening the graph in a new window.\n",
    "bokeh.io.reset_output()\n",
    "bokeh.io.output_notebook()"
   ]
  },
  {
   "cell_type": "markdown",
   "metadata": {},
   "source": [
    "Since the length and reward means are equal, we'll only plot one line:"
   ]
  },
  {
   "cell_type": "code",
   "execution_count": 20,
   "metadata": {},
   "outputs": [
    {
     "data": {
      "text/html": [
       "\n",
       "\n",
       "\n",
       "\n",
       "\n",
       "\n",
       "  <div class=\"bk-root\" id=\"24645048-db01-4d60-b1f8-71e3c1cff058\" data-root-id=\"1004\"></div>\n"
      ]
     },
     "metadata": {},
     "output_type": "display_data"
    },
    {
     "data": {
      "application/javascript": [
       "(function(root) {\n",
       "  function embed_document(root) {\n",
       "    \n",
       "  var docs_json = {\"f81edfbd-2b75-4a57-81e8-b600e41314ca\":{\"roots\":{\"references\":[{\"attributes\":{\"below\":[{\"id\":\"1012\"}],\"center\":[{\"id\":\"1015\"},{\"id\":\"1019\"},{\"id\":\"1042\"}],\"left\":[{\"id\":\"1016\"}],\"plot_height\":500,\"plot_width\":800,\"renderers\":[{\"id\":\"1035\"},{\"id\":\"1040\"}],\"title\":{\"id\":\"1046\"},\"toolbar\":{\"id\":\"1026\"},\"x_range\":{\"id\":\"1005\"},\"x_scale\":{\"id\":\"1008\"},\"y_range\":{\"id\":\"1003\"},\"y_scale\":{\"id\":\"1010\"}},\"id\":\"1004\",\"subtype\":\"Figure\",\"type\":\"Plot\"},{\"attributes\":{\"data_source\":{\"id\":\"1002\"},\"glyph\":{\"id\":\"1038\"},\"hover_glyph\":null,\"muted_glyph\":null,\"nonselection_glyph\":{\"id\":\"1039\"},\"selection_glyph\":null,\"view\":{\"id\":\"1041\"}},\"id\":\"1040\",\"type\":\"GlyphRenderer\"},{\"attributes\":{},\"id\":\"1023\",\"type\":\"ResetTool\"},{\"attributes\":{\"source\":{\"id\":\"1002\"}},\"id\":\"1041\",\"type\":\"CDSView\"},{\"attributes\":{},\"id\":\"1024\",\"type\":\"SaveTool\"},{\"attributes\":{},\"id\":\"1010\",\"type\":\"LinearScale\"},{\"attributes\":{\"base\":{\"field\":\"n\",\"units\":\"data\"},\"fill_alpha\":0.3,\"level\":\"underlay\",\"line_color\":\"blue\",\"lower\":{\"field\":\"episode_reward_min\",\"units\":\"data\"},\"source\":{\"id\":\"1002\"},\"upper\":{\"field\":\"episode_reward_max\",\"units\":\"data\"}},\"id\":\"1042\",\"type\":\"Band\"},{\"attributes\":{\"active_drag\":\"auto\",\"active_inspect\":\"auto\",\"active_multi\":null,\"active_scroll\":\"auto\",\"active_tap\":\"auto\",\"tools\":[{\"id\":\"1020\"},{\"id\":\"1021\"},{\"id\":\"1022\"},{\"id\":\"1023\"},{\"id\":\"1024\"},{\"id\":\"1044\"}]},\"id\":\"1026\",\"type\":\"Toolbar\"},{\"attributes\":{\"callback\":null,\"tooltips\":[[\"n\",\"$x\"],[\"episode_reward_mean\",\"$y\"]]},\"id\":\"1044\",\"type\":\"HoverTool\"},{\"attributes\":{\"text\":\"Episode Rewards\"},\"id\":\"1046\",\"type\":\"Title\"},{\"attributes\":{\"axis_label\":\"n\",\"formatter\":{\"id\":\"1050\"},\"ticker\":{\"id\":\"1013\"}},\"id\":\"1012\",\"type\":\"LinearAxis\"},{\"attributes\":{},\"id\":\"1008\",\"type\":\"LinearScale\"},{\"attributes\":{},\"id\":\"1050\",\"type\":\"BasicTickFormatter\"},{\"attributes\":{},\"id\":\"1013\",\"type\":\"BasicTicker\"},{\"attributes\":{\"fill_alpha\":{\"value\":0.3},\"fill_color\":{\"value\":\"#1f77b4\"},\"line_color\":{\"value\":\"blue\"},\"size\":{\"units\":\"screen\",\"value\":3},\"x\":{\"field\":\"n\"},\"y\":{\"field\":\"episode_reward_mean\"}},\"id\":\"1033\",\"type\":\"Scatter\"},{\"attributes\":{},\"id\":\"1052\",\"type\":\"BasicTickFormatter\"},{\"attributes\":{\"axis\":{\"id\":\"1012\"},\"grid_line_alpha\":0.5,\"ticker\":null},\"id\":\"1015\",\"type\":\"Grid\"},{\"attributes\":{},\"id\":\"1053\",\"type\":\"UnionRenderers\"},{\"attributes\":{\"end\":509.82,\"start\":-0.8200000000000003},\"id\":\"1003\",\"type\":\"Range1d\"},{\"attributes\":{\"bottom_units\":\"screen\",\"fill_alpha\":0.5,\"fill_color\":\"lightgrey\",\"left_units\":\"screen\",\"level\":\"overlay\",\"line_alpha\":1.0,\"line_color\":\"black\",\"line_dash\":[4,4],\"line_width\":2,\"right_units\":\"screen\",\"top_units\":\"screen\"},\"id\":\"1025\",\"type\":\"BoxAnnotation\"},{\"attributes\":{\"axis_label\":\"reward\",\"formatter\":{\"id\":\"1052\"},\"ticker\":{\"id\":\"1017\"}},\"id\":\"1016\",\"type\":\"LinearAxis\"},{\"attributes\":{\"fill_alpha\":{\"value\":0.1},\"fill_color\":{\"value\":\"#1f77b4\"},\"line_alpha\":{\"value\":0.1},\"line_color\":{\"value\":\"blue\"},\"size\":{\"units\":\"screen\",\"value\":3},\"x\":{\"field\":\"n\"},\"y\":{\"field\":\"episode_reward_mean\"}},\"id\":\"1034\",\"type\":\"Scatter\"},{\"attributes\":{},\"id\":\"1054\",\"type\":\"Selection\"},{\"attributes\":{},\"id\":\"1005\",\"type\":\"DataRange1d\"},{\"attributes\":{\"data\":{\"episode_len_mean\":{\"__ndarray__\":\"n/RJn/QJNkChvYT2EppCQHsUrkfh+kpAFK5H4XrkVEAfhetRuB5cQI/C9ShcD2JAuB6F61FYZkAAAAAAAEBqQFK4HoXrKW5AexSuR+FacUA=\",\"dtype\":\"float64\",\"order\":\"little\",\"shape\":[10]},\"episode_reward_max\":{\"__ndarray__\":\"AAAAAADAUUAAAAAAAABeQAAAAAAAIGNAAAAAAAAwdEAAAAAAAGB1QAAAAAAAQH9AAAAAAABAf0AAAAAAAEB/QAAAAAAAQH9AAAAAAABAf0A=\",\"dtype\":\"float64\",\"order\":\"little\",\"shape\":[10]},\"episode_reward_mean\":{\"__ndarray__\":\"n/RJn/QJNkChvYT2EppCQHsUrkfh+kpAFK5H4XrkVEAfhetRuB5cQI/C9ShcD2JAuB6F61FYZkAAAAAAAEBqQFK4HoXrKW5AexSuR+FacUA=\",\"dtype\":\"float64\",\"order\":\"little\",\"shape\":[10]},\"episode_reward_min\":{\"__ndarray__\":\"AAAAAAAAIkAAAAAAAAAmQAAAAAAAACZAAAAAAAAALEAAAAAAAAAsQAAAAAAAACxAAAAAAAAALEAAAAAAAAAsQAAAAAAAACxAAAAAAAAANUA=\",\"dtype\":\"float64\",\"order\":\"little\",\"shape\":[10]},\"index\":[0,1,2,3,4,5,6,7,8,9],\"level_0\":[0,1,2,3,4,5,6,7,8,9],\"n\":[0,1,2,3,4,5,6,7,8,9]},\"selected\":{\"id\":\"1054\"},\"selection_policy\":{\"id\":\"1053\"}},\"id\":\"1002\",\"type\":\"ColumnDataSource\"},{\"attributes\":{},\"id\":\"1017\",\"type\":\"BasicTicker\"},{\"attributes\":{\"source\":{\"id\":\"1002\"}},\"id\":\"1036\",\"type\":\"CDSView\"},{\"attributes\":{\"axis\":{\"id\":\"1016\"},\"dimension\":1,\"grid_line_alpha\":0.5,\"ticker\":null},\"id\":\"1019\",\"type\":\"Grid\"},{\"attributes\":{},\"id\":\"1020\",\"type\":\"PanTool\"},{\"attributes\":{\"data_source\":{\"id\":\"1002\"},\"glyph\":{\"id\":\"1033\"},\"hover_glyph\":null,\"muted_glyph\":null,\"nonselection_glyph\":{\"id\":\"1034\"},\"selection_glyph\":null,\"view\":{\"id\":\"1036\"}},\"id\":\"1035\",\"type\":\"GlyphRenderer\"},{\"attributes\":{\"x\":{\"field\":\"n\"},\"y\":{\"field\":\"episode_reward_mean\"}},\"id\":\"1038\",\"type\":\"Line\"},{\"attributes\":{},\"id\":\"1021\",\"type\":\"WheelZoomTool\"},{\"attributes\":{\"line_alpha\":0.1,\"x\":{\"field\":\"n\"},\"y\":{\"field\":\"episode_reward_mean\"}},\"id\":\"1039\",\"type\":\"Line\"},{\"attributes\":{\"overlay\":{\"id\":\"1025\"}},\"id\":\"1022\",\"type\":\"BoxZoomTool\"}],\"root_ids\":[\"1004\"]},\"title\":\"Bokeh Application\",\"version\":\"2.1.1\"}};\n",
       "  var render_items = [{\"docid\":\"f81edfbd-2b75-4a57-81e8-b600e41314ca\",\"root_ids\":[\"1004\"],\"roots\":{\"1004\":\"24645048-db01-4d60-b1f8-71e3c1cff058\"}}];\n",
       "  root.Bokeh.embed.embed_items_notebook(docs_json, render_items);\n",
       "\n",
       "  }\n",
       "  if (root.Bokeh !== undefined) {\n",
       "    embed_document(root);\n",
       "  } else {\n",
       "    var attempts = 0;\n",
       "    var timer = setInterval(function(root) {\n",
       "      if (root.Bokeh !== undefined) {\n",
       "        clearInterval(timer);\n",
       "        embed_document(root);\n",
       "      } else {\n",
       "        attempts++;\n",
       "        if (attempts > 100) {\n",
       "          clearInterval(timer);\n",
       "          console.log(\"Bokeh: ERROR: Unable to run BokehJS code because BokehJS library is missing\");\n",
       "        }\n",
       "      }\n",
       "    }, 10, root)\n",
       "  }\n",
       "})(window);"
      ],
      "application/vnd.bokehjs_exec.v0+json": ""
     },
     "metadata": {
      "application/vnd.bokehjs_exec.v0+json": {
       "id": "1004"
      }
     },
     "output_type": "display_data"
    }
   ],
   "source": [
    "plot_line_with_min_max(df, x_col='n', y_col='episode_reward_mean', min_col='episode_reward_min', max_col='episode_reward_max',\n",
    "                      title='Episode Rewards', x_axis_label='n', y_axis_label='reward')"
   ]
  },
  {
   "cell_type": "markdown",
   "metadata": {},
   "source": [
    "([image](../images/rllib/Cart-Pole-Episode-Rewards.png))\n",
    "\n",
    "The model is quickly able to hit the maximum value of 500, but the mean is what's most valueable. After 10 steps, we're more than half way there.\n",
    "\n",
    "모델은 500의 최대 값을 빠르게 맞출 수 있지만, 평균은 가장 가치 있는 것이다. 10단계를 밟고 나면, 우리는 절반 이상 거기에 있다."
   ]
  },
  {
   "cell_type": "markdown",
   "metadata": {},
   "source": [
    "FYI, here are two views of the whole value for one result. First, a \"pretty print\" output.\n",
    "\n",
    "> **Tip:** The output will be long. When this happens for a cell, right click and select _Enable scrolling for outputs_."
   ]
  },
  {
   "cell_type": "code",
   "execution_count": 21,
   "metadata": {
    "colab": {},
    "colab_type": "code",
    "id": "3o0wjdZ3Nlh7",
    "scrolled": true
   },
   "outputs": [
    {
     "name": "stdout",
     "output_type": "stream",
     "text": [
      "custom_metrics: {}\n",
      "date: 2020-08-16_12-54-45\n",
      "done: false\n",
      "episode_len_mean: 277.68\n",
      "episode_reward_max: 500.0\n",
      "episode_reward_mean: 277.68\n",
      "episode_reward_min: 21.0\n",
      "episodes_this_iter: 9\n",
      "episodes_total: 449\n",
      "experiment_id: 257cac17466e46329227635856c5b9c8\n",
      "hostname: Jungyeon\n",
      "info:\n",
      "  learner:\n",
      "    default_policy:\n",
      "      cur_kl_coeff: 0.07500000298023224\n",
      "      cur_lr: 4.999999873689376e-05\n",
      "      entropy: 0.5292267203330994\n",
      "      entropy_coeff: 0.0\n",
      "      kl: 0.005547081585973501\n",
      "      model: {}\n",
      "      policy_loss: -0.004298275336623192\n",
      "      total_loss: 658.5515747070312\n",
      "      vf_explained_var: 0.00033683545188978314\n",
      "      vf_loss: 658.5554809570312\n",
      "  num_steps_sampled: 40000\n",
      "  num_steps_trained: 40000\n",
      "iterations_since_restore: 10\n",
      "node_ip: 192.168.0.4\n",
      "num_healthy_workers: 1\n",
      "off_policy_estimator: {}\n",
      "perf:\n",
      "  cpu_util_percent: 34.78181818181818\n",
      "  ram_util_percent: 52.57272727272728\n",
      "pid: 31072\n",
      "policy_reward_max: {}\n",
      "policy_reward_mean: {}\n",
      "policy_reward_min: {}\n",
      "sampler_perf:\n",
      "  mean_env_wait_ms: 0.08144118635014053\n",
      "  mean_inference_ms: 1.1434829150974037\n",
      "  mean_processing_ms: 0.24152494030556537\n",
      "time_since_restore: 87.07844090461731\n",
      "time_this_iter_s: 7.102036714553833\n",
      "time_total_s: 87.07844090461731\n",
      "timers:\n",
      "  learn_throughput: 1864.976\n",
      "  learn_time_ms: 2144.8\n",
      "  load_throughput: 637805.403\n",
      "  load_time_ms: 6.272\n",
      "  sample_throughput: 612.327\n",
      "  sample_time_ms: 6532.462\n",
      "  update_time_ms: 3.181\n",
      "timestamp: 1597550085\n",
      "timesteps_since_restore: 0\n",
      "timesteps_total: 40000\n",
      "training_iteration: 10\n",
      "\n"
     ]
    }
   ],
   "source": [
    "print(pretty_print(results[-1]))"
   ]
  },
  {
   "cell_type": "markdown",
   "metadata": {},
   "source": [
    "We'll learn about more of these values as continue the tutorial.\n",
    "\n",
    "The whole, long JSON blob, which includes the historical stats about episode rewards and lengths:"
   ]
  },
  {
   "cell_type": "code",
   "execution_count": 22,
   "metadata": {
    "scrolled": true
   },
   "outputs": [
    {
     "data": {
      "text/plain": [
       "{'episode_reward_max': 500.0,\n",
       " 'episode_reward_min': 21.0,\n",
       " 'episode_reward_mean': 277.68,\n",
       " 'episode_len_mean': 277.68,\n",
       " 'episodes_this_iter': 9,\n",
       " 'policy_reward_min': {},\n",
       " 'policy_reward_max': {},\n",
       " 'policy_reward_mean': {},\n",
       " 'custom_metrics': {},\n",
       " 'hist_stats': {'episode_reward': [500.0,\n",
       "   500.0,\n",
       "   500.0,\n",
       "   500.0,\n",
       "   388.0,\n",
       "   345.0,\n",
       "   500.0,\n",
       "   500.0,\n",
       "   500.0,\n",
       "   323.0,\n",
       "   156.0,\n",
       "   96.0,\n",
       "   21.0,\n",
       "   186.0,\n",
       "   78.0,\n",
       "   155.0,\n",
       "   163.0,\n",
       "   219.0,\n",
       "   56.0,\n",
       "   144.0,\n",
       "   161.0,\n",
       "   177.0,\n",
       "   135.0,\n",
       "   130.0,\n",
       "   153.0,\n",
       "   130.0,\n",
       "   79.0,\n",
       "   110.0,\n",
       "   114.0,\n",
       "   31.0,\n",
       "   166.0,\n",
       "   124.0,\n",
       "   181.0,\n",
       "   117.0,\n",
       "   42.0,\n",
       "   145.0,\n",
       "   159.0,\n",
       "   202.0,\n",
       "   103.0,\n",
       "   206.0,\n",
       "   293.0,\n",
       "   188.0,\n",
       "   313.0,\n",
       "   86.0,\n",
       "   158.0,\n",
       "   220.0,\n",
       "   228.0,\n",
       "   193.0,\n",
       "   224.0,\n",
       "   183.0,\n",
       "   177.0,\n",
       "   39.0,\n",
       "   264.0,\n",
       "   144.0,\n",
       "   342.0,\n",
       "   124.0,\n",
       "   200.0,\n",
       "   199.0,\n",
       "   206.0,\n",
       "   117.0,\n",
       "   494.0,\n",
       "   294.0,\n",
       "   500.0,\n",
       "   281.0,\n",
       "   500.0,\n",
       "   294.0,\n",
       "   353.0,\n",
       "   394.0,\n",
       "   220.0,\n",
       "   256.0,\n",
       "   164.0,\n",
       "   22.0,\n",
       "   306.0,\n",
       "   405.0,\n",
       "   500.0,\n",
       "   500.0,\n",
       "   500.0,\n",
       "   189.0,\n",
       "   500.0,\n",
       "   500.0,\n",
       "   500.0,\n",
       "   169.0,\n",
       "   246.0,\n",
       "   500.0,\n",
       "   455.0,\n",
       "   500.0,\n",
       "   500.0,\n",
       "   500.0,\n",
       "   455.0,\n",
       "   500.0,\n",
       "   136.0,\n",
       "   139.0,\n",
       "   446.0,\n",
       "   500.0,\n",
       "   500.0,\n",
       "   157.0,\n",
       "   500.0,\n",
       "   500.0,\n",
       "   500.0,\n",
       "   500.0],\n",
       "  'episode_lengths': [500,\n",
       "   500,\n",
       "   500,\n",
       "   500,\n",
       "   388,\n",
       "   345,\n",
       "   500,\n",
       "   500,\n",
       "   500,\n",
       "   323,\n",
       "   156,\n",
       "   96,\n",
       "   21,\n",
       "   186,\n",
       "   78,\n",
       "   155,\n",
       "   163,\n",
       "   219,\n",
       "   56,\n",
       "   144,\n",
       "   161,\n",
       "   177,\n",
       "   135,\n",
       "   130,\n",
       "   153,\n",
       "   130,\n",
       "   79,\n",
       "   110,\n",
       "   114,\n",
       "   31,\n",
       "   166,\n",
       "   124,\n",
       "   181,\n",
       "   117,\n",
       "   42,\n",
       "   145,\n",
       "   159,\n",
       "   202,\n",
       "   103,\n",
       "   206,\n",
       "   293,\n",
       "   188,\n",
       "   313,\n",
       "   86,\n",
       "   158,\n",
       "   220,\n",
       "   228,\n",
       "   193,\n",
       "   224,\n",
       "   183,\n",
       "   177,\n",
       "   39,\n",
       "   264,\n",
       "   144,\n",
       "   342,\n",
       "   124,\n",
       "   200,\n",
       "   199,\n",
       "   206,\n",
       "   117,\n",
       "   494,\n",
       "   294,\n",
       "   500,\n",
       "   281,\n",
       "   500,\n",
       "   294,\n",
       "   353,\n",
       "   394,\n",
       "   220,\n",
       "   256,\n",
       "   164,\n",
       "   22,\n",
       "   306,\n",
       "   405,\n",
       "   500,\n",
       "   500,\n",
       "   500,\n",
       "   189,\n",
       "   500,\n",
       "   500,\n",
       "   500,\n",
       "   169,\n",
       "   246,\n",
       "   500,\n",
       "   455,\n",
       "   500,\n",
       "   500,\n",
       "   500,\n",
       "   455,\n",
       "   500,\n",
       "   136,\n",
       "   139,\n",
       "   446,\n",
       "   500,\n",
       "   500,\n",
       "   157,\n",
       "   500,\n",
       "   500,\n",
       "   500,\n",
       "   500]},\n",
       " 'sampler_perf': {'mean_env_wait_ms': 0.08144118635014053,\n",
       "  'mean_processing_ms': 0.24152494030556537,\n",
       "  'mean_inference_ms': 1.1434829150974037},\n",
       " 'off_policy_estimator': {},\n",
       " 'num_healthy_workers': 1,\n",
       " 'timesteps_total': 40000,\n",
       " 'timers': {'sample_time_ms': 6532.462,\n",
       "  'sample_throughput': 612.327,\n",
       "  'load_time_ms': 6.272,\n",
       "  'load_throughput': 637805.403,\n",
       "  'learn_time_ms': 2144.8,\n",
       "  'learn_throughput': 1864.976,\n",
       "  'update_time_ms': 3.181},\n",
       " 'info': {'learner': {'default_policy': {'cur_kl_coeff': 0.07500000298023224,\n",
       "    'cur_lr': 4.999999873689376e-05,\n",
       "    'total_loss': 658.5516,\n",
       "    'policy_loss': -0.0042982753,\n",
       "    'vf_loss': 658.5555,\n",
       "    'vf_explained_var': 0.00033683545,\n",
       "    'kl': 0.0055470816,\n",
       "    'entropy': 0.5292267,\n",
       "    'entropy_coeff': 0.0,\n",
       "    'model': {}}},\n",
       "  'num_steps_sampled': 40000,\n",
       "  'num_steps_trained': 40000},\n",
       " 'done': False,\n",
       " 'episodes_total': 449,\n",
       " 'training_iteration': 10,\n",
       " 'experiment_id': '257cac17466e46329227635856c5b9c8',\n",
       " 'date': '2020-08-16_12-54-45',\n",
       " 'timestamp': 1597550085,\n",
       " 'time_this_iter_s': 7.102036714553833,\n",
       " 'time_total_s': 87.07844090461731,\n",
       " 'pid': 31072,\n",
       " 'hostname': 'Jungyeon',\n",
       " 'node_ip': '192.168.0.4',\n",
       " 'config': {'num_workers': 1,\n",
       "  'num_envs_per_worker': 1,\n",
       "  'rollout_fragment_length': 200,\n",
       "  'sample_batch_size': -1,\n",
       "  'batch_mode': 'truncate_episodes',\n",
       "  'num_gpus': 0,\n",
       "  'train_batch_size': 4000,\n",
       "  'model': {'conv_filters': None,\n",
       "   'conv_activation': 'relu',\n",
       "   'fcnet_activation': 'tanh',\n",
       "   'fcnet_hiddens': [100, 100],\n",
       "   'free_log_std': False,\n",
       "   'no_final_linear': False,\n",
       "   'vf_share_layers': True,\n",
       "   'use_lstm': False,\n",
       "   'max_seq_len': 20,\n",
       "   'lstm_cell_size': 256,\n",
       "   'lstm_use_prev_action_reward': False,\n",
       "   'state_shape': None,\n",
       "   'framestack': True,\n",
       "   'dim': 84,\n",
       "   'grayscale': False,\n",
       "   'zero_mean': True,\n",
       "   'custom_model': None,\n",
       "   'custom_model_config': {},\n",
       "   'custom_action_dist': None,\n",
       "   'custom_preprocessor': None,\n",
       "   'custom_options': -1},\n",
       "  'optimizer': {},\n",
       "  'gamma': 0.99,\n",
       "  'horizon': None,\n",
       "  'soft_horizon': False,\n",
       "  'no_done_at_end': False,\n",
       "  'env_config': {},\n",
       "  'env': 'CartPole-v1',\n",
       "  'normalize_actions': False,\n",
       "  'clip_rewards': None,\n",
       "  'clip_actions': True,\n",
       "  'preprocessor_pref': 'deepmind',\n",
       "  'lr': 5e-05,\n",
       "  'monitor': False,\n",
       "  'log_level': 'WARN',\n",
       "  'callbacks': ray.rllib.agents.callbacks.DefaultCallbacks,\n",
       "  'ignore_worker_failures': False,\n",
       "  'log_sys_usage': True,\n",
       "  'fake_sampler': False,\n",
       "  'framework': 'tf',\n",
       "  'eager_tracing': False,\n",
       "  'no_eager_on_workers': False,\n",
       "  'explore': True,\n",
       "  'exploration_config': {'type': 'StochasticSampling'},\n",
       "  'evaluation_interval': None,\n",
       "  'evaluation_num_episodes': 10,\n",
       "  'in_evaluation': False,\n",
       "  'evaluation_config': {},\n",
       "  'evaluation_num_workers': 0,\n",
       "  'custom_eval_function': None,\n",
       "  'sample_async': False,\n",
       "  'observation_filter': 'NoFilter',\n",
       "  'synchronize_filters': True,\n",
       "  'tf_session_args': {'intra_op_parallelism_threads': 2,\n",
       "   'inter_op_parallelism_threads': 2,\n",
       "   'gpu_options': {'allow_growth': True},\n",
       "   'log_device_placement': False,\n",
       "   'device_count': {'CPU': 1},\n",
       "   'allow_soft_placement': True},\n",
       "  'local_tf_session_args': {'intra_op_parallelism_threads': 8,\n",
       "   'inter_op_parallelism_threads': 8},\n",
       "  'compress_observations': False,\n",
       "  'collect_metrics_timeout': 180,\n",
       "  'metrics_smoothing_episodes': 100,\n",
       "  'remote_worker_envs': False,\n",
       "  'remote_env_batch_wait_ms': 0,\n",
       "  'min_iter_time_s': 0,\n",
       "  'timesteps_per_iteration': 0,\n",
       "  'seed': None,\n",
       "  'extra_python_environs_for_driver': {},\n",
       "  'extra_python_environs_for_worker': {},\n",
       "  'num_cpus_per_worker': 0,\n",
       "  'num_gpus_per_worker': 0,\n",
       "  'custom_resources_per_worker': {},\n",
       "  'num_cpus_for_driver': 1,\n",
       "  'memory': 0,\n",
       "  'object_store_memory': 0,\n",
       "  'memory_per_worker': 0,\n",
       "  'object_store_memory_per_worker': 0,\n",
       "  'input': 'sampler',\n",
       "  'input_evaluation': ['is', 'wis'],\n",
       "  'postprocess_inputs': False,\n",
       "  'shuffle_buffer_size': 0,\n",
       "  'output': None,\n",
       "  'output_compress_columns': ['obs', 'new_obs'],\n",
       "  'output_max_file_size': 67108864,\n",
       "  'multiagent': {'policies': {},\n",
       "   'policy_mapping_fn': None,\n",
       "   'policies_to_train': None,\n",
       "   'observation_fn': None},\n",
       "  'use_pytorch': -1,\n",
       "  'eager': -1,\n",
       "  'use_critic': True,\n",
       "  'use_gae': True,\n",
       "  'lambda': 1.0,\n",
       "  'kl_coeff': 0.2,\n",
       "  'sgd_minibatch_size': 128,\n",
       "  'shuffle_sequences': True,\n",
       "  'num_sgd_iter': 30,\n",
       "  'lr_schedule': None,\n",
       "  'vf_share_layers': False,\n",
       "  'vf_loss_coeff': 1.0,\n",
       "  'entropy_coeff': 0.0,\n",
       "  'entropy_coeff_schedule': None,\n",
       "  'clip_param': 0.3,\n",
       "  'vf_clip_param': 10.0,\n",
       "  'grad_clip': None,\n",
       "  'kl_target': 0.01,\n",
       "  'simple_optimizer': False,\n",
       "  '_fake_gpus': False},\n",
       " 'time_since_restore': 87.07844090461731,\n",
       " 'timesteps_since_restore': 0,\n",
       " 'iterations_since_restore': 10,\n",
       " 'perf': {'cpu_util_percent': 34.78181818181818,\n",
       "  'ram_util_percent': 52.57272727272728}}"
      ]
     },
     "execution_count": 22,
     "metadata": {},
     "output_type": "execute_result"
    }
   ],
   "source": [
    "results[-1]"
   ]
  },
  {
   "cell_type": "markdown",
   "metadata": {},
   "source": [
    "Let's plot the `episode_reward` values:"
   ]
  },
  {
   "cell_type": "code",
   "execution_count": 23,
   "metadata": {},
   "outputs": [
    {
     "data": {
      "text/html": [
       "\n",
       "\n",
       "\n",
       "\n",
       "\n",
       "\n",
       "  <div class=\"bk-root\" id=\"c491e5ae-b5cb-40c1-bf73-22121e49e7b8\" data-root-id=\"1112\"></div>\n"
      ]
     },
     "metadata": {},
     "output_type": "display_data"
    },
    {
     "data": {
      "application/javascript": [
       "(function(root) {\n",
       "  function embed_document(root) {\n",
       "    \n",
       "  var docs_json = {\"3d967e49-ca99-49c0-a17e-a0878701d237\":{\"roots\":{\"references\":[{\"attributes\":{\"below\":[{\"id\":\"1120\"}],\"center\":[{\"id\":\"1123\"},{\"id\":\"1127\"}],\"left\":[{\"id\":\"1124\"}],\"plot_height\":500,\"plot_width\":800,\"renderers\":[{\"id\":\"1143\"},{\"id\":\"1148\"}],\"title\":{\"id\":\"1152\"},\"toolbar\":{\"id\":\"1134\"},\"x_range\":{\"id\":\"1113\"},\"x_scale\":{\"id\":\"1116\"},\"y_range\":{\"id\":\"1111\"},\"y_scale\":{\"id\":\"1118\"}},\"id\":\"1112\",\"subtype\":\"Figure\",\"type\":\"Plot\"},{\"attributes\":{\"callback\":null,\"tooltips\":[[\"episode\",\"$x\"],[\"reward\",\"$y\"]]},\"id\":\"1150\",\"type\":\"HoverTool\"},{\"attributes\":{},\"id\":\"1131\",\"type\":\"ResetTool\"},{\"attributes\":{\"data_source\":{\"id\":\"1110\"},\"glyph\":{\"id\":\"1141\"},\"hover_glyph\":null,\"muted_glyph\":null,\"nonselection_glyph\":{\"id\":\"1142\"},\"selection_glyph\":null,\"view\":{\"id\":\"1144\"}},\"id\":\"1143\",\"type\":\"GlyphRenderer\"},{\"attributes\":{\"bottom_units\":\"screen\",\"fill_alpha\":0.5,\"fill_color\":\"lightgrey\",\"left_units\":\"screen\",\"level\":\"overlay\",\"line_alpha\":1.0,\"line_color\":\"black\",\"line_dash\":[4,4],\"line_width\":2,\"right_units\":\"screen\",\"top_units\":\"screen\"},\"id\":\"1133\",\"type\":\"BoxAnnotation\"},{\"attributes\":{\"overlay\":{\"id\":\"1133\"}},\"id\":\"1130\",\"type\":\"BoxZoomTool\"},{\"attributes\":{\"axis_label\":\"reward\",\"formatter\":{\"id\":\"1167\"},\"ticker\":{\"id\":\"1125\"}},\"id\":\"1124\",\"type\":\"LinearAxis\"},{\"attributes\":{\"end\":509.58,\"start\":11.42},\"id\":\"1111\",\"type\":\"Range1d\"},{\"attributes\":{},\"id\":\"1132\",\"type\":\"SaveTool\"},{\"attributes\":{\"active_drag\":\"auto\",\"active_inspect\":\"auto\",\"active_multi\":null,\"active_scroll\":\"auto\",\"active_tap\":\"auto\",\"tools\":[{\"id\":\"1128\"},{\"id\":\"1129\"},{\"id\":\"1130\"},{\"id\":\"1131\"},{\"id\":\"1132\"},{\"id\":\"1150\"}]},\"id\":\"1134\",\"type\":\"Toolbar\"},{\"attributes\":{},\"id\":\"1116\",\"type\":\"LinearScale\"},{\"attributes\":{},\"id\":\"1167\",\"type\":\"BasicTickFormatter\"},{\"attributes\":{\"text\":\"Episode Rewards\"},\"id\":\"1152\",\"type\":\"Title\"},{\"attributes\":{},\"id\":\"1113\",\"type\":\"DataRange1d\"},{\"attributes\":{},\"id\":\"1129\",\"type\":\"WheelZoomTool\"},{\"attributes\":{\"line_alpha\":0.1,\"x\":{\"field\":\"episode\"},\"y\":{\"field\":\"reward\"}},\"id\":\"1147\",\"type\":\"Line\"},{\"attributes\":{\"data\":{\"episode\":[0,1,2,3,4,5,6,7,8,9,10,11,12,13,14,15,16,17,18,19,20,21,22,23,24,25,26,27,28,29,30,31,32,33,34,35,36,37,38,39,40,41,42,43,44,45,46,47,48,49,50,51,52,53,54,55,56,57,58,59,60,61,62,63,64,65,66,67,68,69,70,71,72,73,74,75,76,77,78,79,80,81,82,83,84,85,86,87,88,89,90,91,92,93,94,95,96,97,98,99],\"index\":[0,1,2,3,4,5,6,7,8,9,10,11,12,13,14,15,16,17,18,19,20,21,22,23,24,25,26,27,28,29,30,31,32,33,34,35,36,37,38,39,40,41,42,43,44,45,46,47,48,49,50,51,52,53,54,55,56,57,58,59,60,61,62,63,64,65,66,67,68,69,70,71,72,73,74,75,76,77,78,79,80,81,82,83,84,85,86,87,88,89,90,91,92,93,94,95,96,97,98,99],\"level_0\":[0,1,2,3,4,5,6,7,8,9,10,11,12,13,14,15,16,17,18,19,20,21,22,23,24,25,26,27,28,29,30,31,32,33,34,35,36,37,38,39,40,41,42,43,44,45,46,47,48,49,50,51,52,53,54,55,56,57,58,59,60,61,62,63,64,65,66,67,68,69,70,71,72,73,74,75,76,77,78,79,80,81,82,83,84,85,86,87,88,89,90,91,92,93,94,95,96,97,98,99],\"reward\":{\"__ndarray__\":\"AAAAAABAf0AAAAAAAEB/QAAAAAAAQH9AAAAAAABAf0AAAAAAAEB4QAAAAAAAkHVAAAAAAABAf0AAAAAAAEB/QAAAAAAAQH9AAAAAAAAwdEAAAAAAAIBjQAAAAAAAAFhAAAAAAAAANUAAAAAAAEBnQAAAAAAAgFNAAAAAAABgY0AAAAAAAGBkQAAAAAAAYGtAAAAAAAAATEAAAAAAAABiQAAAAAAAIGRAAAAAAAAgZkAAAAAAAOBgQAAAAAAAQGBAAAAAAAAgY0AAAAAAAEBgQAAAAAAAwFNAAAAAAACAW0AAAAAAAIBcQAAAAAAAAD9AAAAAAADAZEAAAAAAAABfQAAAAAAAoGZAAAAAAABAXUAAAAAAAABFQAAAAAAAIGJAAAAAAADgY0AAAAAAAEBpQAAAAAAAwFlAAAAAAADAaUAAAAAAAFByQAAAAAAAgGdAAAAAAACQc0AAAAAAAIBVQAAAAAAAwGNAAAAAAACAa0AAAAAAAIBsQAAAAAAAIGhAAAAAAAAAbEAAAAAAAOBmQAAAAAAAIGZAAAAAAACAQ0AAAAAAAIBwQAAAAAAAAGJAAAAAAABgdUAAAAAAAABfQAAAAAAAAGlAAAAAAADgaEAAAAAAAMBpQAAAAAAAQF1AAAAAAADgfkAAAAAAAGByQAAAAAAAQH9AAAAAAACQcUAAAAAAAEB/QAAAAAAAYHJAAAAAAAAQdkAAAAAAAKB4QAAAAAAAgGtAAAAAAAAAcEAAAAAAAIBkQAAAAAAAADZAAAAAAAAgc0AAAAAAAFB5QAAAAAAAQH9AAAAAAABAf0AAAAAAAEB/QAAAAAAAoGdAAAAAAABAf0AAAAAAAEB/QAAAAAAAQH9AAAAAAAAgZUAAAAAAAMBuQAAAAAAAQH9AAAAAAABwfEAAAAAAAEB/QAAAAAAAQH9AAAAAAABAf0AAAAAAAHB8QAAAAAAAQH9AAAAAAAAAYUAAAAAAAGBhQAAAAAAA4HtAAAAAAABAf0AAAAAAAEB/QAAAAAAAoGNAAAAAAABAf0AAAAAAAEB/QAAAAAAAQH9AAAAAAABAf0A=\",\"dtype\":\"float64\",\"order\":\"little\",\"shape\":[100]}},\"selected\":{\"id\":\"1170\"},\"selection_policy\":{\"id\":\"1169\"}},\"id\":\"1110\",\"type\":\"ColumnDataSource\"},{\"attributes\":{},\"id\":\"1118\",\"type\":\"LinearScale\"},{\"attributes\":{\"fill_alpha\":{\"value\":0.1},\"fill_color\":{\"value\":\"#1f77b4\"},\"line_alpha\":{\"value\":0.1},\"line_color\":{\"value\":\"blue\"},\"size\":{\"units\":\"screen\",\"value\":3},\"x\":{\"field\":\"episode\"},\"y\":{\"field\":\"reward\"}},\"id\":\"1142\",\"type\":\"Scatter\"},{\"attributes\":{},\"id\":\"1165\",\"type\":\"BasicTickFormatter\"},{\"attributes\":{\"axis_label\":\"episode\",\"formatter\":{\"id\":\"1165\"},\"ticker\":{\"id\":\"1121\"}},\"id\":\"1120\",\"type\":\"LinearAxis\"},{\"attributes\":{\"x\":{\"field\":\"episode\"},\"y\":{\"field\":\"reward\"}},\"id\":\"1146\",\"type\":\"Line\"},{\"attributes\":{},\"id\":\"1121\",\"type\":\"BasicTicker\"},{\"attributes\":{\"axis\":{\"id\":\"1120\"},\"grid_line_alpha\":0.5,\"ticker\":null},\"id\":\"1123\",\"type\":\"Grid\"},{\"attributes\":{},\"id\":\"1125\",\"type\":\"BasicTicker\"},{\"attributes\":{},\"id\":\"1128\",\"type\":\"PanTool\"},{\"attributes\":{},\"id\":\"1170\",\"type\":\"Selection\"},{\"attributes\":{},\"id\":\"1169\",\"type\":\"UnionRenderers\"},{\"attributes\":{\"source\":{\"id\":\"1110\"}},\"id\":\"1149\",\"type\":\"CDSView\"},{\"attributes\":{\"axis\":{\"id\":\"1124\"},\"dimension\":1,\"grid_line_alpha\":0.5,\"ticker\":null},\"id\":\"1127\",\"type\":\"Grid\"},{\"attributes\":{\"data_source\":{\"id\":\"1110\"},\"glyph\":{\"id\":\"1146\"},\"hover_glyph\":null,\"muted_glyph\":null,\"nonselection_glyph\":{\"id\":\"1147\"},\"selection_glyph\":null,\"view\":{\"id\":\"1149\"}},\"id\":\"1148\",\"type\":\"GlyphRenderer\"},{\"attributes\":{\"fill_alpha\":{\"value\":0.3},\"fill_color\":{\"value\":\"#1f77b4\"},\"line_color\":{\"value\":\"blue\"},\"size\":{\"units\":\"screen\",\"value\":3},\"x\":{\"field\":\"episode\"},\"y\":{\"field\":\"reward\"}},\"id\":\"1141\",\"type\":\"Scatter\"},{\"attributes\":{\"source\":{\"id\":\"1110\"}},\"id\":\"1144\",\"type\":\"CDSView\"}],\"root_ids\":[\"1112\"]},\"title\":\"Bokeh Application\",\"version\":\"2.1.1\"}};\n",
       "  var render_items = [{\"docid\":\"3d967e49-ca99-49c0-a17e-a0878701d237\",\"root_ids\":[\"1112\"],\"roots\":{\"1112\":\"c491e5ae-b5cb-40c1-bf73-22121e49e7b8\"}}];\n",
       "  root.Bokeh.embed.embed_items_notebook(docs_json, render_items);\n",
       "\n",
       "  }\n",
       "  if (root.Bokeh !== undefined) {\n",
       "    embed_document(root);\n",
       "  } else {\n",
       "    var attempts = 0;\n",
       "    var timer = setInterval(function(root) {\n",
       "      if (root.Bokeh !== undefined) {\n",
       "        clearInterval(timer);\n",
       "        embed_document(root);\n",
       "      } else {\n",
       "        attempts++;\n",
       "        if (attempts > 100) {\n",
       "          clearInterval(timer);\n",
       "          console.log(\"Bokeh: ERROR: Unable to run BokehJS code because BokehJS library is missing\");\n",
       "        }\n",
       "      }\n",
       "    }, 10, root)\n",
       "  }\n",
       "})(window);"
      ],
      "application/vnd.bokehjs_exec.v0+json": ""
     },
     "metadata": {
      "application/vnd.bokehjs_exec.v0+json": {
       "id": "1112"
      }
     },
     "output_type": "display_data"
    }
   ],
   "source": [
    "episode_rewards = results[-1]['hist_stats']['episode_reward']\n",
    "df_episode_rewards = pd.DataFrame(data={'episode':range(len(episode_rewards)), 'reward':episode_rewards})\n",
    "plot_line(df_episode_rewards, x_col='episode', y_col='reward', title='Episode Rewards', x_axis_label='episode', y_axis_label='reward')"
   ]
  },
  {
   "cell_type": "markdown",
   "metadata": {},
   "source": [
    "([image](../images/rllib/Cart-Pole-Episode-Rewards2.png))\n",
    "\n",
    "For a well-trained model, most runs do very well while occasional runs do poorly. Try plotting other results episodes by changing the array index in `results[-1]` to another number between `0` and `9`. (The length of `results` is `10`.)\n",
    "\n",
    "잘 훈련된 모델의 경우, 대부분의 런은 매우 잘 작동하는 반면, 때때로 런은 잘 작동하지 않는다. 결과[-1]의 배열 지수를 0과 9 사이의 다른 숫자로 변경하여 다른 결과 에피소드를 플롯해 보십시오.(결과의 길이는 10이다.)"
   ]
  },
  {
   "cell_type": "markdown",
   "metadata": {
    "colab_type": "text",
    "id": "FPdkWLrENlh9"
   },
   "source": [
    "### Exercise 2\n",
    "\n",
    "The current network and training configuration are too large and heavy-duty for a simple problem like `CartPole`. Modify the configuration to use a smaller network (the `config['model']['fcnet_hiddens']` setting) and to speed up the optimization of the surrogate objective. (Fewer SGD iterations and a larger batch size should help.)"
   ]
  },
  {
   "cell_type": "code",
   "execution_count": 24,
   "metadata": {
    "colab": {},
    "colab_type": "code",
    "id": "3lp6tqkNNlh9"
   },
   "outputs": [
    {
     "name": "stderr",
     "output_type": "stream",
     "text": [
      "2020-08-16 12:54:51,234\tERROR syncer.py:46 -- Log sync requires rsync to be installed.\n",
      "2020-08-16 12:54:56,690\tWARNING util.py:37 -- Install gputil for GPU system monitoring.\n"
     ]
    }
   ],
   "source": [
    "# Make edits here:\n",
    "config = DEFAULT_CONFIG.copy()\n",
    "config['num_workers'] = 3\n",
    "config['num_sgd_iter'] = 30\n",
    "config['sgd_minibatch_size'] = 128\n",
    "config['model']['fcnet_hiddens'] = [100, 100]\n",
    "config['num_cpus_per_worker'] = 0\n",
    "\n",
    "agent = PPOTrainer(config, 'CartPole-v1')"
   ]
  },
  {
   "cell_type": "markdown",
   "metadata": {
    "colab_type": "text",
    "id": "64FmVP7kNlh_"
   },
   "source": [
    "Train the agent and try to get a reward of 200. If it's training too slowly you may need to modify the config above to use fewer hidden units, a larger `sgd_minibatch_size`, a smaller `num_sgd_iter`, or a larger `num_workers`.\n",
    "\n",
    "This should take around `N` = 20 or 30 training iterations."
   ]
  },
  {
   "cell_type": "code",
   "execution_count": 25,
   "metadata": {
    "colab": {},
    "colab_type": "code",
    "id": "XB7sdKUzNliA",
    "scrolled": true
   },
   "outputs": [
    {
     "name": "stdout",
     "output_type": "stream",
     "text": [
      "Max reward: 78.0\n",
      "Max reward: 101.0\n",
      "Max reward: 217.0\n",
      "Max reward: 364.0\n",
      "Max reward: 364.0\n"
     ]
    }
   ],
   "source": [
    "N=5\n",
    "results = []\n",
    "episode_data = []\n",
    "episode_json = []\n",
    "for n in range(N):\n",
    "    result = agent.train()\n",
    "    results.append(result)\n",
    "    episode = {'n': n, \n",
    "               'episode_reward_mean': result['episode_reward_mean'], \n",
    "               'episode_reward_max': result['episode_reward_max'],  \n",
    "               'episode_len_mean': result['episode_len_mean']}    \n",
    "    episode_data.append(episode)\n",
    "    episode_json.append(json.dumps(episode))\n",
    "    print(f'Max reward: {episode[\"episode_reward_max\"]}')"
   ]
  },
  {
   "cell_type": "markdown",
   "metadata": {
    "colab_type": "text",
    "id": "PW6bN9CYNliB"
   },
   "source": [
    "# Using Checkpoints\n",
    "\n",
    "You checkpoint the current state of a trainer to save what it has learned. Checkpoints are used for subsequent _rollouts_ and also to continue training later from a known-good state.  Calling `agent.save()` creates the checkpoint and returns the path to the checkpoint file, which can be used later to restore the current state to a new trainer. Here we'll load the trained policy into the same process, but often it would be loaded in a new process, for example on a production cluster for serving that is separate from the training cluster."
   ]
  },
  {
   "cell_type": "code",
   "execution_count": 26,
   "metadata": {
    "colab": {},
    "colab_type": "code",
    "id": "6uf808LMNliC"
   },
   "outputs": [
    {
     "name": "stdout",
     "output_type": "stream",
     "text": [
      "C:\\Users\\LG/ray_results\\PPO_CartPole-v1_2020-08-16_12-54-51qk_ig89p\\checkpoint_5\\checkpoint-5\n"
     ]
    }
   ],
   "source": [
    "checkpoint_path = agent.save()\n",
    "print(checkpoint_path)"
   ]
  },
  {
   "cell_type": "markdown",
   "metadata": {
    "colab_type": "text",
    "id": "05icI8bfNliD"
   },
   "source": [
    "Now load the checkpoint in a new trainer:"
   ]
  },
  {
   "cell_type": "code",
   "execution_count": 22,
   "metadata": {
    "colab": {},
    "colab_type": "code",
    "id": "8Qq2_AYVNliE"
   },
   "outputs": [
    {
     "name": "stderr",
     "output_type": "stream",
     "text": [
      "2020-08-12 21:55:01,143\tERROR syncer.py:46 -- Log sync requires rsync to be installed.\n",
      "2020-08-12 21:55:06,235\tWARNING util.py:37 -- Install gputil for GPU system monitoring.\n",
      "2020-08-12 21:55:06,454\tINFO trainable.py:423 -- Restored on 192.168.0.4 from checkpoint: C:\\Users\\LG/ray_results\\PPO_CartPole-v1_2020-08-12_21-54-259jnj5anj\\checkpoint_5\\checkpoint-5\n",
      "2020-08-12 21:55:06,456\tINFO trainable.py:430 -- Current state after restoring: {'_iteration': 5, '_timesteps_total': None, '_time_total': 29.93517565727234, '_episodes_total': 400}\n"
     ]
    }
   ],
   "source": [
    "trained_config = config.copy()\n",
    "test_agent = PPOTrainer(trained_config, 'CartPole-v1')\n",
    "test_agent.restore(checkpoint_path)"
   ]
  },
  {
   "cell_type": "markdown",
   "metadata": {
    "colab_type": "text",
    "id": "c2gUUlqkNliG"
   },
   "source": [
    "Use the previously-trained policy to act in an environment. The key line is the call to `test_agent.compute_action(state)` which uses the trained policy to choose an action. This is an example of _rollout_, which we'll study in a subsequent lesson.\n",
    "\n",
    "Verify that the cumulative reward received roughly matches up with the reward printed above. It will be at or near 200."
   ]
  },
  {
   "cell_type": "code",
   "execution_count": 23,
   "metadata": {
    "colab": {},
    "colab_type": "code",
    "id": "9asL5Z5lNliH"
   },
   "outputs": [
    {
     "name": "stdout",
     "output_type": "stream",
     "text": [
      "367.0\n"
     ]
    }
   ],
   "source": [
    "env = gym.make('CartPole-v1')\n",
    "state = env.reset()\n",
    "done = False\n",
    "cumulative_reward = 0\n",
    "\n",
    "while not done:\n",
    "    action = test_agent.compute_action(state)  # key line; get the next action\n",
    "    state, reward, done, _ = env.step(action)\n",
    "    cumulative_reward += reward\n",
    "\n",
    "print(cumulative_reward)"
   ]
  },
  {
   "cell_type": "code",
   "execution_count": 24,
   "metadata": {},
   "outputs": [],
   "source": [
    "ray.shutdown()  # \"Undo ray.init()\"."
   ]
  },
  {
   "cell_type": "markdown",
   "metadata": {},
   "source": [
    "The next lesson, [02: Introduction to RLlib](02-Introduction-to-RLlib.ipynb) steps back to introduce to RLlib, its goals and the capabilities it provides."
   ]
  }
 ],
 "metadata": {
  "colab": {
   "name": "Copy of RLlib Tutorial",
   "provenance": []
  },
  "hide_code_all_hidden": false,
  "kernelspec": {
   "display_name": "Python 3",
   "language": "python",
   "name": "python3"
  },
  "language_info": {
   "codemirror_mode": {
    "name": "ipython",
    "version": 3
   },
   "file_extension": ".py",
   "mimetype": "text/x-python",
   "name": "python",
   "nbconvert_exporter": "python",
   "pygments_lexer": "ipython3",
   "version": "3.6.10"
  }
 },
 "nbformat": 4,
 "nbformat_minor": 4
}
